{
 "cells": [
  {
   "cell_type": "code",
   "execution_count": 1,
   "metadata": {
    "collapsed": true
   },
   "outputs": [],
   "source": [
    "import pandas as pd\n",
    "import numpy as np\n",
    "import os\n",
    "import time\n",
    "from fbprophet import Prophet\n",
    "import matplotlib.pyplot as plt\n",
    "%matplotlib inline "
   ]
  },
  {
   "cell_type": "markdown",
   "metadata": {},
   "source": [
    "#### Import Dataset"
   ]
  },
  {
   "cell_type": "markdown",
   "metadata": {},
   "source": [
    "<i>Note: data is starts at Jan 2016</i>"
   ]
  },
  {
   "cell_type": "code",
   "execution_count": 2,
   "metadata": {
    "collapsed": true
   },
   "outputs": [],
   "source": [
    "data = pd.read_csv(\"consolidated_coin_data.csv\")"
   ]
  },
  {
   "cell_type": "markdown",
   "metadata": {},
   "source": [
    "#### Rename Columns (to be used later for prophet)"
   ]
  },
  {
   "cell_type": "code",
   "execution_count": 3,
   "metadata": {
    "collapsed": true
   },
   "outputs": [],
   "source": [
    "data.rename(columns={'High':'y','Date':'ds'}, inplace=True)"
   ]
  },
  {
   "cell_type": "markdown",
   "metadata": {},
   "source": [
    "#### Quick Peek at the Data"
   ]
  },
  {
   "cell_type": "code",
   "execution_count": 4,
   "metadata": {
    "scrolled": true
   },
   "outputs": [
    {
     "data": {
      "text/html": [
       "<div>\n",
       "<style>\n",
       "    .dataframe thead tr:only-child th {\n",
       "        text-align: right;\n",
       "    }\n",
       "\n",
       "    .dataframe thead th {\n",
       "        text-align: left;\n",
       "    }\n",
       "\n",
       "    .dataframe tbody tr th {\n",
       "        vertical-align: top;\n",
       "    }\n",
       "</style>\n",
       "<table border=\"1\" class=\"dataframe\">\n",
       "  <thead>\n",
       "    <tr style=\"text-align: right;\">\n",
       "      <th></th>\n",
       "      <th>Currency</th>\n",
       "      <th>ds</th>\n",
       "      <th>Open</th>\n",
       "      <th>y</th>\n",
       "      <th>Low</th>\n",
       "      <th>Close</th>\n",
       "      <th>Volume</th>\n",
       "      <th>Market Cap</th>\n",
       "    </tr>\n",
       "  </thead>\n",
       "  <tbody>\n",
       "    <tr>\n",
       "      <th>0</th>\n",
       "      <td>0x</td>\n",
       "      <td>27-Dec-17</td>\n",
       "      <td>0.648181</td>\n",
       "      <td>0.712597</td>\n",
       "      <td>0.617503</td>\n",
       "      <td>0.669701</td>\n",
       "      <td>11,866,800</td>\n",
       "      <td>306,131,000</td>\n",
       "    </tr>\n",
       "    <tr>\n",
       "      <th>1</th>\n",
       "      <td>0x</td>\n",
       "      <td>26-Dec-17</td>\n",
       "      <td>0.693401</td>\n",
       "      <td>0.708796</td>\n",
       "      <td>0.563918</td>\n",
       "      <td>0.647725</td>\n",
       "      <td>12,996,000</td>\n",
       "      <td>327,270,000</td>\n",
       "    </tr>\n",
       "    <tr>\n",
       "      <th>2</th>\n",
       "      <td>0x</td>\n",
       "      <td>25-Dec-17</td>\n",
       "      <td>0.634725</td>\n",
       "      <td>0.717725</td>\n",
       "      <td>0.630453</td>\n",
       "      <td>0.696416</td>\n",
       "      <td>8,668,880</td>\n",
       "      <td>317,362,000</td>\n",
       "    </tr>\n",
       "    <tr>\n",
       "      <th>3</th>\n",
       "      <td>0x</td>\n",
       "      <td>24-Dec-17</td>\n",
       "      <td>0.651100</td>\n",
       "      <td>0.672352</td>\n",
       "      <td>0.534855</td>\n",
       "      <td>0.628460</td>\n",
       "      <td>11,478,700</td>\n",
       "      <td>325,550,000</td>\n",
       "    </tr>\n",
       "    <tr>\n",
       "      <th>4</th>\n",
       "      <td>0x</td>\n",
       "      <td>23-Dec-17</td>\n",
       "      <td>0.502023</td>\n",
       "      <td>0.768043</td>\n",
       "      <td>0.485584</td>\n",
       "      <td>0.645686</td>\n",
       "      <td>24,164,900</td>\n",
       "      <td>251,012,000</td>\n",
       "    </tr>\n",
       "  </tbody>\n",
       "</table>\n",
       "</div>"
      ],
      "text/plain": [
       "  Currency         ds      Open         y       Low     Close      Volume  \\\n",
       "0       0x  27-Dec-17  0.648181  0.712597  0.617503  0.669701  11,866,800   \n",
       "1       0x  26-Dec-17  0.693401  0.708796  0.563918  0.647725  12,996,000   \n",
       "2       0x  25-Dec-17  0.634725  0.717725  0.630453  0.696416   8,668,880   \n",
       "3       0x  24-Dec-17  0.651100  0.672352  0.534855  0.628460  11,478,700   \n",
       "4       0x  23-Dec-17  0.502023  0.768043  0.485584  0.645686  24,164,900   \n",
       "\n",
       "    Market Cap  \n",
       "0  306,131,000  \n",
       "1  327,270,000  \n",
       "2  317,362,000  \n",
       "3  325,550,000  \n",
       "4  251,012,000  "
      ]
     },
     "execution_count": 4,
     "metadata": {},
     "output_type": "execute_result"
    }
   ],
   "source": [
    "data.head()"
   ]
  },
  {
   "cell_type": "markdown",
   "metadata": {},
   "source": [
    "#### Count occurances of currency to get its age in days"
   ]
  },
  {
   "cell_type": "code",
   "execution_count": 5,
   "metadata": {
    "scrolled": true
   },
   "outputs": [
    {
     "data": {
      "text/plain": [
       "nxt                     727\n",
       "bitcoindark             727\n",
       "factom                  727\n",
       "reddcoin                727\n",
       "stellar                 727\n",
       "counterparty            727\n",
       "feathercoin             727\n",
       "maidsafecoin            727\n",
       "burst                   727\n",
       "bytecoin-bcn            727\n",
       "bitshares               727\n",
       "syscoin                 727\n",
       "dash                    727\n",
       "cloakcoin               727\n",
       "verge                   727\n",
       "gulden                  727\n",
       "namecoin                727\n",
       "viacoin                 727\n",
       "faircoin                727\n",
       "einsteinium             727\n",
       "shift                   727\n",
       "litecoin                727\n",
       "monero                  727\n",
       "nem                     727\n",
       "emercoin                727\n",
       "gamecredits             727\n",
       "nav-coin                727\n",
       "digitalnote             727\n",
       "vertcoin                727\n",
       "dogecoin                727\n",
       "                       ... \n",
       "amber                    66\n",
       "modum                    66\n",
       "bitcoin-gold             66\n",
       "kucoin-shares            65\n",
       "open-trading-network     64\n",
       "ripio-credit-network     63\n",
       "icon                     62\n",
       "red-pulse                61\n",
       "etherparty               59\n",
       "power-ledger             57\n",
       "revain                   57\n",
       "enjin-coin               57\n",
       "electroneum              56\n",
       "streamr-datacoin         55\n",
       "raiden-network-token     50\n",
       "delphy                   50\n",
       "ink                      38\n",
       "quantstamp               37\n",
       "qash                     37\n",
       "time-new-bank            31\n",
       "blockv                   30\n",
       "ethlend                  28\n",
       "dragonchain              25\n",
       "cybermiles               22\n",
       "iot-chain                18\n",
       "wabi                     16\n",
       "storm                     8\n",
       "aelf                      7\n",
       "wax                       7\n",
       "bread                     4\n",
       "Name: Currency, Length: 200, dtype: int64"
      ]
     },
     "execution_count": 5,
     "metadata": {},
     "output_type": "execute_result"
    }
   ],
   "source": [
    "currency_count = data['Currency'].value_counts()\n",
    "currency_count"
   ]
  },
  {
   "cell_type": "code",
   "execution_count": 6,
   "metadata": {
    "scrolled": true
   },
   "outputs": [
    {
     "data": {
      "text/plain": [
       "Index(['nxt', 'bitcoindark', 'factom', 'reddcoin', 'stellar', 'counterparty',\n",
       "       'feathercoin', 'maidsafecoin', 'burst', 'bytecoin-bcn',\n",
       "       ...\n",
       "       'blockv', 'ethlend', 'dragonchain', 'cybermiles', 'iot-chain', 'wabi',\n",
       "       'storm', 'aelf', 'wax', 'bread'],\n",
       "      dtype='object', length=200)"
      ]
     },
     "execution_count": 6,
     "metadata": {},
     "output_type": "execute_result"
    }
   ],
   "source": [
    "currency_count.index"
   ]
  },
  {
   "cell_type": "markdown",
   "metadata": {},
   "source": [
    "#### Dont include currencies before a certain threshold"
   ]
  },
  {
   "cell_type": "code",
   "execution_count": 7,
   "metadata": {
    "collapsed": true
   },
   "outputs": [],
   "source": [
    "threshold = 50\n",
    "currency_above_threshold = currency_count.index[data['Currency'].value_counts()>threshold]"
   ]
  },
  {
   "cell_type": "code",
   "execution_count": 8,
   "metadata": {
    "collapsed": true
   },
   "outputs": [],
   "source": [
    "currency_above_threshold = currency_above_threshold.tolist()"
   ]
  },
  {
   "cell_type": "markdown",
   "metadata": {},
   "source": [
    "#### Currencies that are above the threshold"
   ]
  },
  {
   "cell_type": "code",
   "execution_count": 9,
   "metadata": {},
   "outputs": [
    {
     "data": {
      "text/plain": [
       "['nxt',\n",
       " 'bitcoindark',\n",
       " 'factom',\n",
       " 'reddcoin',\n",
       " 'stellar',\n",
       " 'counterparty',\n",
       " 'feathercoin',\n",
       " 'maidsafecoin',\n",
       " 'burst',\n",
       " 'bytecoin-bcn',\n",
       " 'bitshares',\n",
       " 'syscoin',\n",
       " 'dash',\n",
       " 'cloakcoin',\n",
       " 'verge',\n",
       " 'gulden',\n",
       " 'namecoin',\n",
       " 'viacoin',\n",
       " 'faircoin',\n",
       " 'einsteinium',\n",
       " 'shift',\n",
       " 'litecoin',\n",
       " 'monero',\n",
       " 'nem',\n",
       " 'emercoin',\n",
       " 'gamecredits',\n",
       " 'nav-coin',\n",
       " 'digitalnote',\n",
       " 'vertcoin',\n",
       " 'dogecoin',\n",
       " 'potcoin',\n",
       " 'aeon',\n",
       " 'paccoin',\n",
       " 'nexus',\n",
       " 'blocknet',\n",
       " 'ripple',\n",
       " 'bitbay',\n",
       " 'digibyte',\n",
       " 'blackcoin',\n",
       " 'bitcoin',\n",
       " 'monacoin',\n",
       " 'groestlcoin',\n",
       " 'ethereum',\n",
       " 'tether',\n",
       " 'sibcoin',\n",
       " 'peercoin',\n",
       " 'siacoin',\n",
       " 'pura',\n",
       " 'hempcoin',\n",
       " 'whitecoin',\n",
       " 'supernet-unity',\n",
       " 'ubiq',\n",
       " 'agoras-tokens',\n",
       " 'salus',\n",
       " 'decred',\n",
       " 'pivx',\n",
       " 'voxels',\n",
       " 'lisk',\n",
       " 'augur',\n",
       " 'steem',\n",
       " 'digixdao',\n",
       " 'waves',\n",
       " 'rise',\n",
       " 'ion',\n",
       " 'library-credit',\n",
       " 'ethereum-classic',\n",
       " 'stratis',\n",
       " 'neo',\n",
       " 'ardor',\n",
       " 'firstblood',\n",
       " 'iconomi',\n",
       " 'pepe-cash',\n",
       " 'singulardtv',\n",
       " 'zcoin',\n",
       " 'triggers',\n",
       " 'zcash',\n",
       " 'zclassic',\n",
       " 'lykke',\n",
       " 'golem-network-tokens',\n",
       " 'xp',\n",
       " 'decent',\n",
       " 'byteball',\n",
       " 'wings',\n",
       " 'bitconnect',\n",
       " 'komodo',\n",
       " 'melon',\n",
       " 'ark',\n",
       " 'raiblocks',\n",
       " 'mercury',\n",
       " 'edgeless',\n",
       " 'asch',\n",
       " 'guppy',\n",
       " 'skycoin',\n",
       " 'rlc',\n",
       " 'xtrabytes',\n",
       " 'gnosis-gno',\n",
       " 'humaniq',\n",
       " 'aragon',\n",
       " 'qtum',\n",
       " 'aeternity',\n",
       " 'basic-attention-token',\n",
       " 'zencash',\n",
       " 'metaverse',\n",
       " 'veritaseum',\n",
       " 'quantum-resistant-ledger',\n",
       " 'mobilego',\n",
       " 'iota',\n",
       " 'sonm',\n",
       " 'bancor',\n",
       " 'cofound-it',\n",
       " 'gxshares',\n",
       " 'tenx',\n",
       " 'funfair',\n",
       " 'status',\n",
       " 'adx-net',\n",
       " 'eos',\n",
       " 'storj',\n",
       " 'monaco',\n",
       " 'wagerr',\n",
       " 'gas',\n",
       " 'metal',\n",
       " 'santiment',\n",
       " 'populous',\n",
       " 'omisego',\n",
       " 'civic',\n",
       " 'ethos',\n",
       " 'particl',\n",
       " 'smartcash',\n",
       " 'bitcoin-cash',\n",
       " 'pillar',\n",
       " 'binance-coin',\n",
       " 'district0x',\n",
       " 'coindash',\n",
       " 'bytom',\n",
       " 'dentacoin',\n",
       " 'centra',\n",
       " 'dent',\n",
       " '0x',\n",
       " 'hshare',\n",
       " 'vechain',\n",
       " 'yoyow',\n",
       " 'tierion',\n",
       " 'walton',\n",
       " 'loopring',\n",
       " 'poet',\n",
       " 'monetha',\n",
       " 'neblio',\n",
       " 'tron',\n",
       " 'decentraland',\n",
       " 'xplay',\n",
       " 'chainlink',\n",
       " 'kyber-network',\n",
       " 'substratum',\n",
       " 'achain',\n",
       " 'kin',\n",
       " 'salt',\n",
       " 'cobinhood',\n",
       " 'cardano',\n",
       " 'attention-token-of-media',\n",
       " 'rchain',\n",
       " 'viberate',\n",
       " 'paypie',\n",
       " 'bridgecoin',\n",
       " 'cryptonex',\n",
       " 'enigma-project',\n",
       " 'cindicator',\n",
       " 'airswap',\n",
       " 'eidoo',\n",
       " 'aion',\n",
       " 'request-network',\n",
       " 'amber',\n",
       " 'modum',\n",
       " 'bitcoin-gold',\n",
       " 'kucoin-shares',\n",
       " 'open-trading-network',\n",
       " 'ripio-credit-network',\n",
       " 'icon',\n",
       " 'red-pulse',\n",
       " 'etherparty',\n",
       " 'power-ledger',\n",
       " 'revain',\n",
       " 'enjin-coin',\n",
       " 'electroneum',\n",
       " 'streamr-datacoin']"
      ]
     },
     "execution_count": 9,
     "metadata": {},
     "output_type": "execute_result"
    }
   ],
   "source": [
    "currency_above_threshold"
   ]
  },
  {
   "cell_type": "markdown",
   "metadata": {},
   "source": [
    "#### Split Data into train and test per each currency and add into a dictionary"
   ]
  },
  {
   "cell_type": "code",
   "execution_count": 10,
   "metadata": {
    "collapsed": true
   },
   "outputs": [],
   "source": [
    "data_dict_train = {}\n",
    "data_dict_test = {}"
   ]
  },
  {
   "cell_type": "code",
   "execution_count": 11,
   "metadata": {
    "collapsed": true
   },
   "outputs": [],
   "source": [
    "for currency in currency_above_threshold:\n",
    "    _ = data[data['Currency']==currency]\n",
    "    _.index = pd.to_datetime(_['ds'])\n",
    "    #_ = _.drop(['Date'],axis = 1)\n",
    "    data_dict_test[currency] = _[:30]\n",
    "    data_dict_train[currency] = _[30:]\n",
    "    "
   ]
  },
  {
   "cell_type": "markdown",
   "metadata": {},
   "source": [
    "#### View the dictionary"
   ]
  },
  {
   "cell_type": "code",
   "execution_count": 12,
   "metadata": {
    "scrolled": true
   },
   "outputs": [
    {
     "data": {
      "text/html": [
       "<div>\n",
       "<style>\n",
       "    .dataframe thead tr:only-child th {\n",
       "        text-align: right;\n",
       "    }\n",
       "\n",
       "    .dataframe thead th {\n",
       "        text-align: left;\n",
       "    }\n",
       "\n",
       "    .dataframe tbody tr th {\n",
       "        vertical-align: top;\n",
       "    }\n",
       "</style>\n",
       "<table border=\"1\" class=\"dataframe\">\n",
       "  <thead>\n",
       "    <tr style=\"text-align: right;\">\n",
       "      <th></th>\n",
       "      <th>Currency</th>\n",
       "      <th>ds</th>\n",
       "      <th>Open</th>\n",
       "      <th>y</th>\n",
       "      <th>Low</th>\n",
       "      <th>Close</th>\n",
       "      <th>Volume</th>\n",
       "      <th>Market Cap</th>\n",
       "    </tr>\n",
       "    <tr>\n",
       "      <th>ds</th>\n",
       "      <th></th>\n",
       "      <th></th>\n",
       "      <th></th>\n",
       "      <th></th>\n",
       "      <th></th>\n",
       "      <th></th>\n",
       "      <th></th>\n",
       "      <th></th>\n",
       "    </tr>\n",
       "  </thead>\n",
       "  <tbody>\n",
       "    <tr>\n",
       "      <th>2017-12-27</th>\n",
       "      <td>0x</td>\n",
       "      <td>27-Dec-17</td>\n",
       "      <td>0.648181</td>\n",
       "      <td>0.712597</td>\n",
       "      <td>0.617503</td>\n",
       "      <td>0.669701</td>\n",
       "      <td>11,866,800</td>\n",
       "      <td>306,131,000</td>\n",
       "    </tr>\n",
       "    <tr>\n",
       "      <th>2017-12-26</th>\n",
       "      <td>0x</td>\n",
       "      <td>26-Dec-17</td>\n",
       "      <td>0.693401</td>\n",
       "      <td>0.708796</td>\n",
       "      <td>0.563918</td>\n",
       "      <td>0.647725</td>\n",
       "      <td>12,996,000</td>\n",
       "      <td>327,270,000</td>\n",
       "    </tr>\n",
       "    <tr>\n",
       "      <th>2017-12-25</th>\n",
       "      <td>0x</td>\n",
       "      <td>25-Dec-17</td>\n",
       "      <td>0.634725</td>\n",
       "      <td>0.717725</td>\n",
       "      <td>0.630453</td>\n",
       "      <td>0.696416</td>\n",
       "      <td>8,668,880</td>\n",
       "      <td>317,362,000</td>\n",
       "    </tr>\n",
       "    <tr>\n",
       "      <th>2017-12-24</th>\n",
       "      <td>0x</td>\n",
       "      <td>24-Dec-17</td>\n",
       "      <td>0.651100</td>\n",
       "      <td>0.672352</td>\n",
       "      <td>0.534855</td>\n",
       "      <td>0.628460</td>\n",
       "      <td>11,478,700</td>\n",
       "      <td>325,550,000</td>\n",
       "    </tr>\n",
       "    <tr>\n",
       "      <th>2017-12-23</th>\n",
       "      <td>0x</td>\n",
       "      <td>23-Dec-17</td>\n",
       "      <td>0.502023</td>\n",
       "      <td>0.768043</td>\n",
       "      <td>0.485584</td>\n",
       "      <td>0.645686</td>\n",
       "      <td>24,164,900</td>\n",
       "      <td>251,012,000</td>\n",
       "    </tr>\n",
       "  </tbody>\n",
       "</table>\n",
       "</div>"
      ],
      "text/plain": [
       "           Currency         ds      Open         y       Low     Close  \\\n",
       "ds                                                                       \n",
       "2017-12-27       0x  27-Dec-17  0.648181  0.712597  0.617503  0.669701   \n",
       "2017-12-26       0x  26-Dec-17  0.693401  0.708796  0.563918  0.647725   \n",
       "2017-12-25       0x  25-Dec-17  0.634725  0.717725  0.630453  0.696416   \n",
       "2017-12-24       0x  24-Dec-17  0.651100  0.672352  0.534855  0.628460   \n",
       "2017-12-23       0x  23-Dec-17  0.502023  0.768043  0.485584  0.645686   \n",
       "\n",
       "                Volume   Market Cap  \n",
       "ds                                   \n",
       "2017-12-27  11,866,800  306,131,000  \n",
       "2017-12-26  12,996,000  327,270,000  \n",
       "2017-12-25   8,668,880  317,362,000  \n",
       "2017-12-24  11,478,700  325,550,000  \n",
       "2017-12-23  24,164,900  251,012,000  "
      ]
     },
     "execution_count": 12,
     "metadata": {},
     "output_type": "execute_result"
    }
   ],
   "source": [
    "data_dict_test['0x'].head()"
   ]
  },
  {
   "cell_type": "code",
   "execution_count": 13,
   "metadata": {},
   "outputs": [
    {
     "data": {
      "text/html": [
       "<div>\n",
       "<style>\n",
       "    .dataframe thead tr:only-child th {\n",
       "        text-align: right;\n",
       "    }\n",
       "\n",
       "    .dataframe thead th {\n",
       "        text-align: left;\n",
       "    }\n",
       "\n",
       "    .dataframe tbody tr th {\n",
       "        vertical-align: top;\n",
       "    }\n",
       "</style>\n",
       "<table border=\"1\" class=\"dataframe\">\n",
       "  <thead>\n",
       "    <tr style=\"text-align: right;\">\n",
       "      <th></th>\n",
       "      <th>Currency</th>\n",
       "      <th>ds</th>\n",
       "      <th>Open</th>\n",
       "      <th>y</th>\n",
       "      <th>Low</th>\n",
       "      <th>Close</th>\n",
       "      <th>Volume</th>\n",
       "      <th>Market Cap</th>\n",
       "    </tr>\n",
       "    <tr>\n",
       "      <th>ds</th>\n",
       "      <th></th>\n",
       "      <th></th>\n",
       "      <th></th>\n",
       "      <th></th>\n",
       "      <th></th>\n",
       "      <th></th>\n",
       "      <th></th>\n",
       "      <th></th>\n",
       "    </tr>\n",
       "  </thead>\n",
       "  <tbody>\n",
       "    <tr>\n",
       "      <th>2017-11-27</th>\n",
       "      <td>0x</td>\n",
       "      <td>27-Nov-17</td>\n",
       "      <td>0.225910</td>\n",
       "      <td>0.234219</td>\n",
       "      <td>0.212298</td>\n",
       "      <td>0.233117</td>\n",
       "      <td>3,421,410</td>\n",
       "      <td>112,955,000</td>\n",
       "    </tr>\n",
       "    <tr>\n",
       "      <th>2017-11-26</th>\n",
       "      <td>0x</td>\n",
       "      <td>26-Nov-17</td>\n",
       "      <td>0.229367</td>\n",
       "      <td>0.235126</td>\n",
       "      <td>0.215153</td>\n",
       "      <td>0.226367</td>\n",
       "      <td>3,034,850</td>\n",
       "      <td>114,683,000</td>\n",
       "    </tr>\n",
       "    <tr>\n",
       "      <th>2017-11-25</th>\n",
       "      <td>0x</td>\n",
       "      <td>25-Nov-17</td>\n",
       "      <td>0.234212</td>\n",
       "      <td>0.239257</td>\n",
       "      <td>0.223383</td>\n",
       "      <td>0.228617</td>\n",
       "      <td>2,381,170</td>\n",
       "      <td>117,106,000</td>\n",
       "    </tr>\n",
       "    <tr>\n",
       "      <th>2017-11-24</th>\n",
       "      <td>0x</td>\n",
       "      <td>24-Nov-17</td>\n",
       "      <td>0.215836</td>\n",
       "      <td>0.236280</td>\n",
       "      <td>0.209834</td>\n",
       "      <td>0.234195</td>\n",
       "      <td>2,700,630</td>\n",
       "      <td>107,918,000</td>\n",
       "    </tr>\n",
       "    <tr>\n",
       "      <th>2017-11-23</th>\n",
       "      <td>0x</td>\n",
       "      <td>23-Nov-17</td>\n",
       "      <td>0.228887</td>\n",
       "      <td>0.232974</td>\n",
       "      <td>0.214334</td>\n",
       "      <td>0.216585</td>\n",
       "      <td>2,847,780</td>\n",
       "      <td>114,444,000</td>\n",
       "    </tr>\n",
       "  </tbody>\n",
       "</table>\n",
       "</div>"
      ],
      "text/plain": [
       "           Currency         ds      Open         y       Low     Close  \\\n",
       "ds                                                                       \n",
       "2017-11-27       0x  27-Nov-17  0.225910  0.234219  0.212298  0.233117   \n",
       "2017-11-26       0x  26-Nov-17  0.229367  0.235126  0.215153  0.226367   \n",
       "2017-11-25       0x  25-Nov-17  0.234212  0.239257  0.223383  0.228617   \n",
       "2017-11-24       0x  24-Nov-17  0.215836  0.236280  0.209834  0.234195   \n",
       "2017-11-23       0x  23-Nov-17  0.228887  0.232974  0.214334  0.216585   \n",
       "\n",
       "               Volume   Market Cap  \n",
       "ds                                  \n",
       "2017-11-27  3,421,410  112,955,000  \n",
       "2017-11-26  3,034,850  114,683,000  \n",
       "2017-11-25  2,381,170  117,106,000  \n",
       "2017-11-24  2,700,630  107,918,000  \n",
       "2017-11-23  2,847,780  114,444,000  "
      ]
     },
     "execution_count": 13,
     "metadata": {},
     "output_type": "execute_result"
    }
   ],
   "source": [
    "data_dict_train['0x'].head()"
   ]
  },
  {
   "cell_type": "markdown",
   "metadata": {},
   "source": [
    "#### Plot train"
   ]
  },
  {
   "cell_type": "code",
   "execution_count": 14,
   "metadata": {},
   "outputs": [
    {
     "data": {
      "text/plain": [
       "<matplotlib.axes._subplots.AxesSubplot at 0x215a7d5bef0>"
      ]
     },
     "execution_count": 14,
     "metadata": {},
     "output_type": "execute_result"
    },
    {
     "data": {
      "image/png": "[encoded data removed]",
      "text/plain": [
       "<matplotlib.figure.Figure at 0x215a7ca6080>"
      ]
     },
     "metadata": {},
     "output_type": "display_data"
    }
   ],
   "source": [
    "data_dict_train['0x']['y'].plot()"
   ]
  },
  {
   "cell_type": "markdown",
   "metadata": {},
   "source": [
    "#### Plot test"
   ]
  },
  {
   "cell_type": "code",
   "execution_count": 15,
   "metadata": {},
   "outputs": [
    {
     "data": {
      "text/plain": [
       "<matplotlib.axes._subplots.AxesSubplot at 0x215a7e1fe10>"
      ]
     },
     "execution_count": 15,
     "metadata": {},
     "output_type": "execute_result"
    },
    {
     "data": {
      "image/png": "[encoded data removed]",
      "text/plain": [
       "<matplotlib.figure.Figure at 0x215a7dadac8>"
      ]
     },
     "metadata": {},
     "output_type": "display_data"
    }
   ],
   "source": [
    "data_dict_test['0x']['y'].sort_index().plot()"
   ]
  },
  {
   "cell_type": "markdown",
   "metadata": {},
   "source": [
    "#### Create DataFrame that is a subset of the dictionary that is to be fed into the model"
   ]
  },
  {
   "cell_type": "code",
   "execution_count": 16,
   "metadata": {
    "collapsed": true
   },
   "outputs": [],
   "source": [
    "model_train = data_dict_train['0x'].loc[:,['ds','y']]\n",
    "model_test = data_dict_test['0x'].loc[:,['ds','y']]"
   ]
  },
  {
   "cell_type": "code",
   "execution_count": 17,
   "metadata": {},
   "outputs": [
    {
     "data": {
      "text/html": [
       "<div>\n",
       "<style>\n",
       "    .dataframe thead tr:only-child th {\n",
       "        text-align: right;\n",
       "    }\n",
       "\n",
       "    .dataframe thead th {\n",
       "        text-align: left;\n",
       "    }\n",
       "\n",
       "    .dataframe tbody tr th {\n",
       "        vertical-align: top;\n",
       "    }\n",
       "</style>\n",
       "<table border=\"1\" class=\"dataframe\">\n",
       "  <thead>\n",
       "    <tr style=\"text-align: right;\">\n",
       "      <th></th>\n",
       "      <th>ds</th>\n",
       "      <th>y</th>\n",
       "    </tr>\n",
       "    <tr>\n",
       "      <th>ds</th>\n",
       "      <th></th>\n",
       "      <th></th>\n",
       "    </tr>\n",
       "  </thead>\n",
       "  <tbody>\n",
       "    <tr>\n",
       "      <th>2017-08-16</th>\n",
       "      <td>16-Aug-17</td>\n",
       "      <td>0.280031</td>\n",
       "    </tr>\n",
       "    <tr>\n",
       "      <th>2017-08-17</th>\n",
       "      <td>17-Aug-17</td>\n",
       "      <td>0.238935</td>\n",
       "    </tr>\n",
       "    <tr>\n",
       "      <th>2017-08-18</th>\n",
       "      <td>18-Aug-17</td>\n",
       "      <td>0.350260</td>\n",
       "    </tr>\n",
       "    <tr>\n",
       "      <th>2017-08-19</th>\n",
       "      <td>19-Aug-17</td>\n",
       "      <td>0.543728</td>\n",
       "    </tr>\n",
       "    <tr>\n",
       "      <th>2017-08-20</th>\n",
       "      <td>20-Aug-17</td>\n",
       "      <td>0.475262</td>\n",
       "    </tr>\n",
       "  </tbody>\n",
       "</table>\n",
       "</div>"
      ],
      "text/plain": [
       "                   ds         y\n",
       "ds                             \n",
       "2017-08-16  16-Aug-17  0.280031\n",
       "2017-08-17  17-Aug-17  0.238935\n",
       "2017-08-18  18-Aug-17  0.350260\n",
       "2017-08-19  19-Aug-17  0.543728\n",
       "2017-08-20  20-Aug-17  0.475262"
      ]
     },
     "execution_count": 17,
     "metadata": {},
     "output_type": "execute_result"
    }
   ],
   "source": [
    "model_train.sort_index().head()"
   ]
  },
  {
   "cell_type": "code",
   "execution_count": 18,
   "metadata": {},
   "outputs": [
    {
     "data": {
      "text/html": [
       "<div>\n",
       "<style>\n",
       "    .dataframe thead tr:only-child th {\n",
       "        text-align: right;\n",
       "    }\n",
       "\n",
       "    .dataframe thead th {\n",
       "        text-align: left;\n",
       "    }\n",
       "\n",
       "    .dataframe tbody tr th {\n",
       "        vertical-align: top;\n",
       "    }\n",
       "</style>\n",
       "<table border=\"1\" class=\"dataframe\">\n",
       "  <thead>\n",
       "    <tr style=\"text-align: right;\">\n",
       "      <th></th>\n",
       "      <th>ds</th>\n",
       "      <th>y</th>\n",
       "    </tr>\n",
       "    <tr>\n",
       "      <th>ds</th>\n",
       "      <th></th>\n",
       "      <th></th>\n",
       "    </tr>\n",
       "  </thead>\n",
       "  <tbody>\n",
       "    <tr>\n",
       "      <th>2017-11-28</th>\n",
       "      <td>28-Nov-17</td>\n",
       "      <td>0.234871</td>\n",
       "    </tr>\n",
       "    <tr>\n",
       "      <th>2017-11-29</th>\n",
       "      <td>29-Nov-17</td>\n",
       "      <td>0.229552</td>\n",
       "    </tr>\n",
       "    <tr>\n",
       "      <th>2017-11-30</th>\n",
       "      <td>30-Nov-17</td>\n",
       "      <td>0.211591</td>\n",
       "    </tr>\n",
       "    <tr>\n",
       "      <th>2017-12-01</th>\n",
       "      <td>1-Dec-17</td>\n",
       "      <td>0.205803</td>\n",
       "    </tr>\n",
       "    <tr>\n",
       "      <th>2017-12-02</th>\n",
       "      <td>2-Dec-17</td>\n",
       "      <td>0.225993</td>\n",
       "    </tr>\n",
       "  </tbody>\n",
       "</table>\n",
       "</div>"
      ],
      "text/plain": [
       "                   ds         y\n",
       "ds                             \n",
       "2017-11-28  28-Nov-17  0.234871\n",
       "2017-11-29  29-Nov-17  0.229552\n",
       "2017-11-30  30-Nov-17  0.211591\n",
       "2017-12-01   1-Dec-17  0.205803\n",
       "2017-12-02   2-Dec-17  0.225993"
      ]
     },
     "execution_count": 18,
     "metadata": {},
     "output_type": "execute_result"
    }
   ],
   "source": [
    "model_test.sort_index().head()"
   ]
  },
  {
   "cell_type": "markdown",
   "metadata": {},
   "source": [
    "#### Forecasting using Prophet"
   ]
  },
  {
   "cell_type": "markdown",
   "metadata": {},
   "source": [
    "#### Create Prophet object and fit it to data"
   ]
  },
  {
   "cell_type": "code",
   "execution_count": 19,
   "metadata": {
    "scrolled": true
   },
   "outputs": [
    {
     "name": "stderr",
     "output_type": "stream",
     "text": [
      "INFO:fbprophet.forecaster:Disabling yearly seasonality. Run prophet with yearly_seasonality=True to override this.\n",
      "INFO:fbprophet.forecaster:Disabling daily seasonality. Run prophet with daily_seasonality=True to override this.\n"
     ]
    },
    {
     "data": {
      "text/plain": [
       "<fbprophet.forecaster.Prophet at 0x215a80f4908>"
      ]
     },
     "execution_count": 19,
     "metadata": {},
     "output_type": "execute_result"
    }
   ],
   "source": [
    "m = Prophet()\n",
    "m.fit(model_train)"
   ]
  },
  {
   "cell_type": "markdown",
   "metadata": {},
   "source": [
    "#### Use helper function that creates a dataframe for future predictions"
   ]
  },
  {
   "cell_type": "code",
   "execution_count": 20,
   "metadata": {},
   "outputs": [
    {
     "data": {
      "text/html": [
       "<div>\n",
       "<style>\n",
       "    .dataframe thead tr:only-child th {\n",
       "        text-align: right;\n",
       "    }\n",
       "\n",
       "    .dataframe thead th {\n",
       "        text-align: left;\n",
       "    }\n",
       "\n",
       "    .dataframe tbody tr th {\n",
       "        vertical-align: top;\n",
       "    }\n",
       "</style>\n",
       "<table border=\"1\" class=\"dataframe\">\n",
       "  <thead>\n",
       "    <tr style=\"text-align: right;\">\n",
       "      <th></th>\n",
       "      <th>ds</th>\n",
       "    </tr>\n",
       "  </thead>\n",
       "  <tbody>\n",
       "    <tr>\n",
       "      <th>129</th>\n",
       "      <td>2017-12-23</td>\n",
       "    </tr>\n",
       "    <tr>\n",
       "      <th>130</th>\n",
       "      <td>2017-12-24</td>\n",
       "    </tr>\n",
       "    <tr>\n",
       "      <th>131</th>\n",
       "      <td>2017-12-25</td>\n",
       "    </tr>\n",
       "    <tr>\n",
       "      <th>132</th>\n",
       "      <td>2017-12-26</td>\n",
       "    </tr>\n",
       "    <tr>\n",
       "      <th>133</th>\n",
       "      <td>2017-12-27</td>\n",
       "    </tr>\n",
       "  </tbody>\n",
       "</table>\n",
       "</div>"
      ],
      "text/plain": [
       "            ds\n",
       "129 2017-12-23\n",
       "130 2017-12-24\n",
       "131 2017-12-25\n",
       "132 2017-12-26\n",
       "133 2017-12-27"
      ]
     },
     "execution_count": 20,
     "metadata": {},
     "output_type": "execute_result"
    }
   ],
   "source": [
    "future = m.make_future_dataframe(periods=30)\n",
    "future.tail()"
   ]
  },
  {
   "cell_type": "markdown",
   "metadata": {},
   "source": [
    "#### Plot Forecast"
   ]
  },
  {
   "cell_type": "code",
   "execution_count": 21,
   "metadata": {},
   "outputs": [
    {
     "data": {
      "text/plain": [
       "<matplotlib.axes._subplots.AxesSubplot at 0x215a81376a0>"
      ]
     },
     "execution_count": 21,
     "metadata": {},
     "output_type": "execute_result"
    },
    {
     "data": {
      "image/png": "[encoded data removed]",
      "text/plain": [
       "<matplotlib.figure.Figure at 0x215a7db1400>"
      ]
     },
     "metadata": {},
     "output_type": "display_data"
    }
   ],
   "source": [
    "forecast = m.predict(future)\n",
    "forecast[['ds', 'yhat', 'yhat_lower', 'yhat_upper']].plot()"
   ]
  },
  {
   "cell_type": "markdown",
   "metadata": {},
   "source": [
    "#### Plot the model including past "
   ]
  },
  {
   "cell_type": "code",
   "execution_count": 22,
   "metadata": {},
   "outputs": [
    {
     "data": {
      "image/png": "[encoded data removed]",
      "text/plain": [
       "<matplotlib.figure.Figure at 0x215a7dd8eb8>"
      ]
     },
     "metadata": {},
     "output_type": "display_data"
    }
   ],
   "source": [
    "m.plot(forecast);"
   ]
  },
  {
   "cell_type": "markdown",
   "metadata": {},
   "source": [
    "#### Plot the components "
   ]
  },
  {
   "cell_type": "code",
   "execution_count": 23,
   "metadata": {},
   "outputs": [
    {
     "data": {
      "image/png": "[encoded data removed]",
      "text/plain": [
       "<matplotlib.figure.Figure at 0x215a7e79cc0>"
      ]
     },
     "metadata": {},
     "output_type": "display_data"
    }
   ],
   "source": [
    "m.plot_components(forecast);"
   ]
  },
  {
   "cell_type": "markdown",
   "metadata": {},
   "source": [
    "#### Set the index into the date for join"
   ]
  },
  {
   "cell_type": "code",
   "execution_count": 24,
   "metadata": {
    "collapsed": true
   },
   "outputs": [],
   "source": [
    "forecast = forecast.set_index('ds')"
   ]
  },
  {
   "cell_type": "markdown",
   "metadata": {},
   "source": [
    "#### Look at the data"
   ]
  },
  {
   "cell_type": "code",
   "execution_count": 25,
   "metadata": {
    "scrolled": true
   },
   "outputs": [
    {
     "data": {
      "text/html": [
       "<div>\n",
       "<style>\n",
       "    .dataframe thead tr:only-child th {\n",
       "        text-align: right;\n",
       "    }\n",
       "\n",
       "    .dataframe thead th {\n",
       "        text-align: left;\n",
       "    }\n",
       "\n",
       "    .dataframe tbody tr th {\n",
       "        vertical-align: top;\n",
       "    }\n",
       "</style>\n",
       "<table border=\"1\" class=\"dataframe\">\n",
       "  <thead>\n",
       "    <tr style=\"text-align: right;\">\n",
       "      <th></th>\n",
       "      <th>trend</th>\n",
       "      <th>trend_lower</th>\n",
       "      <th>trend_upper</th>\n",
       "      <th>yhat_lower</th>\n",
       "      <th>yhat_upper</th>\n",
       "      <th>seasonal</th>\n",
       "      <th>seasonal_lower</th>\n",
       "      <th>seasonal_upper</th>\n",
       "      <th>seasonalities</th>\n",
       "      <th>seasonalities_lower</th>\n",
       "      <th>seasonalities_upper</th>\n",
       "      <th>weekly</th>\n",
       "      <th>weekly_lower</th>\n",
       "      <th>weekly_upper</th>\n",
       "      <th>yhat</th>\n",
       "    </tr>\n",
       "    <tr>\n",
       "      <th>ds</th>\n",
       "      <th></th>\n",
       "      <th></th>\n",
       "      <th></th>\n",
       "      <th></th>\n",
       "      <th></th>\n",
       "      <th></th>\n",
       "      <th></th>\n",
       "      <th></th>\n",
       "      <th></th>\n",
       "      <th></th>\n",
       "      <th></th>\n",
       "      <th></th>\n",
       "      <th></th>\n",
       "      <th></th>\n",
       "      <th></th>\n",
       "    </tr>\n",
       "  </thead>\n",
       "  <tbody>\n",
       "    <tr>\n",
       "      <th>2017-08-16</th>\n",
       "      <td>0.399735</td>\n",
       "      <td>0.399735</td>\n",
       "      <td>0.399735</td>\n",
       "      <td>0.350669</td>\n",
       "      <td>0.441575</td>\n",
       "      <td>-0.004688</td>\n",
       "      <td>-0.004688</td>\n",
       "      <td>-0.004688</td>\n",
       "      <td>-0.004688</td>\n",
       "      <td>-0.004688</td>\n",
       "      <td>-0.004688</td>\n",
       "      <td>-0.004688</td>\n",
       "      <td>-0.004688</td>\n",
       "      <td>-0.004688</td>\n",
       "      <td>0.395047</td>\n",
       "    </tr>\n",
       "    <tr>\n",
       "      <th>2017-08-17</th>\n",
       "      <td>0.395124</td>\n",
       "      <td>0.395124</td>\n",
       "      <td>0.395124</td>\n",
       "      <td>0.343181</td>\n",
       "      <td>0.439906</td>\n",
       "      <td>-0.004538</td>\n",
       "      <td>-0.004538</td>\n",
       "      <td>-0.004538</td>\n",
       "      <td>-0.004538</td>\n",
       "      <td>-0.004538</td>\n",
       "      <td>-0.004538</td>\n",
       "      <td>-0.004538</td>\n",
       "      <td>-0.004538</td>\n",
       "      <td>-0.004538</td>\n",
       "      <td>0.390586</td>\n",
       "    </tr>\n",
       "    <tr>\n",
       "      <th>2017-08-18</th>\n",
       "      <td>0.390513</td>\n",
       "      <td>0.390513</td>\n",
       "      <td>0.390513</td>\n",
       "      <td>0.348666</td>\n",
       "      <td>0.439842</td>\n",
       "      <td>0.002276</td>\n",
       "      <td>0.002276</td>\n",
       "      <td>0.002276</td>\n",
       "      <td>0.002276</td>\n",
       "      <td>0.002276</td>\n",
       "      <td>0.002276</td>\n",
       "      <td>0.002276</td>\n",
       "      <td>0.002276</td>\n",
       "      <td>0.002276</td>\n",
       "      <td>0.392790</td>\n",
       "    </tr>\n",
       "    <tr>\n",
       "      <th>2017-08-19</th>\n",
       "      <td>0.385902</td>\n",
       "      <td>0.385902</td>\n",
       "      <td>0.385902</td>\n",
       "      <td>0.349803</td>\n",
       "      <td>0.443118</td>\n",
       "      <td>0.010536</td>\n",
       "      <td>0.010536</td>\n",
       "      <td>0.010536</td>\n",
       "      <td>0.010536</td>\n",
       "      <td>0.010536</td>\n",
       "      <td>0.010536</td>\n",
       "      <td>0.010536</td>\n",
       "      <td>0.010536</td>\n",
       "      <td>0.010536</td>\n",
       "      <td>0.396439</td>\n",
       "    </tr>\n",
       "    <tr>\n",
       "      <th>2017-08-20</th>\n",
       "      <td>0.381291</td>\n",
       "      <td>0.381291</td>\n",
       "      <td>0.381291</td>\n",
       "      <td>0.337211</td>\n",
       "      <td>0.423902</td>\n",
       "      <td>0.000628</td>\n",
       "      <td>0.000628</td>\n",
       "      <td>0.000628</td>\n",
       "      <td>0.000628</td>\n",
       "      <td>0.000628</td>\n",
       "      <td>0.000628</td>\n",
       "      <td>0.000628</td>\n",
       "      <td>0.000628</td>\n",
       "      <td>0.000628</td>\n",
       "      <td>0.381919</td>\n",
       "    </tr>\n",
       "  </tbody>\n",
       "</table>\n",
       "</div>"
      ],
      "text/plain": [
       "               trend  trend_lower  trend_upper  yhat_lower  yhat_upper  \\\n",
       "ds                                                                       \n",
       "2017-08-16  0.399735     0.399735     0.399735    0.350669    0.441575   \n",
       "2017-08-17  0.395124     0.395124     0.395124    0.343181    0.439906   \n",
       "2017-08-18  0.390513     0.390513     0.390513    0.348666    0.439842   \n",
       "2017-08-19  0.385902     0.385902     0.385902    0.349803    0.443118   \n",
       "2017-08-20  0.381291     0.381291     0.381291    0.337211    0.423902   \n",
       "\n",
       "            seasonal  seasonal_lower  seasonal_upper  seasonalities  \\\n",
       "ds                                                                    \n",
       "2017-08-16 -0.004688       -0.004688       -0.004688      -0.004688   \n",
       "2017-08-17 -0.004538       -0.004538       -0.004538      -0.004538   \n",
       "2017-08-18  0.002276        0.002276        0.002276       0.002276   \n",
       "2017-08-19  0.010536        0.010536        0.010536       0.010536   \n",
       "2017-08-20  0.000628        0.000628        0.000628       0.000628   \n",
       "\n",
       "            seasonalities_lower  seasonalities_upper    weekly  weekly_lower  \\\n",
       "ds                                                                             \n",
       "2017-08-16            -0.004688            -0.004688 -0.004688     -0.004688   \n",
       "2017-08-17            -0.004538            -0.004538 -0.004538     -0.004538   \n",
       "2017-08-18             0.002276             0.002276  0.002276      0.002276   \n",
       "2017-08-19             0.010536             0.010536  0.010536      0.010536   \n",
       "2017-08-20             0.000628             0.000628  0.000628      0.000628   \n",
       "\n",
       "            weekly_upper      yhat  \n",
       "ds                                  \n",
       "2017-08-16     -0.004688  0.395047  \n",
       "2017-08-17     -0.004538  0.390586  \n",
       "2017-08-18      0.002276  0.392790  \n",
       "2017-08-19      0.010536  0.396439  \n",
       "2017-08-20      0.000628  0.381919  "
      ]
     },
     "execution_count": 25,
     "metadata": {},
     "output_type": "execute_result"
    }
   ],
   "source": [
    "forecast.head()"
   ]
  },
  {
   "cell_type": "markdown",
   "metadata": {},
   "source": [
    "#### Combine the forecast with actual values"
   ]
  },
  {
   "cell_type": "code",
   "execution_count": 26,
   "metadata": {
    "collapsed": true
   },
   "outputs": [],
   "source": [
    "final_forecast = forecast[-30:].join(model_test)"
   ]
  },
  {
   "cell_type": "markdown",
   "metadata": {},
   "source": [
    "#### Subset the output"
   ]
  },
  {
   "cell_type": "code",
   "execution_count": 27,
   "metadata": {
    "collapsed": true
   },
   "outputs": [],
   "source": [
    "final_forecast = final_forecast.loc[:,['y','yhat', 'yhat_lower', 'yhat_upper']]"
   ]
  },
  {
   "cell_type": "markdown",
   "metadata": {},
   "source": [
    "#### Plot the just the forecast"
   ]
  },
  {
   "cell_type": "code",
   "execution_count": 28,
   "metadata": {
    "scrolled": false
   },
   "outputs": [
    {
     "data": {
      "text/plain": [
       "<matplotlib.axes._subplots.AxesSubplot at 0x215a8297fd0>"
      ]
     },
     "execution_count": 28,
     "metadata": {},
     "output_type": "execute_result"
    },
    {
     "data": {
      "image/png": "[encoded data removed]",
      "text/plain": [
       "<matplotlib.figure.Figure at 0x215a829b6a0>"
      ]
     },
     "metadata": {},
     "output_type": "display_data"
    }
   ],
   "source": [
    "final_forecast.plot(title = 'currency_loop')"
   ]
  },
  {
   "cell_type": "markdown",
   "metadata": {},
   "source": [
    "#### Get the accuracy"
   ]
  },
  {
   "cell_type": "code",
   "execution_count": 29,
   "metadata": {
    "scrolled": true
   },
   "outputs": [
    {
     "name": "stdout",
     "output_type": "stream",
     "text": [
      "0.38191569118083285\n"
     ]
    }
   ],
   "source": [
    "accuracy = np.mean(np.abs(final_forecast['y'] - final_forecast['yhat'])/np.abs(final_forecast['y']))\n",
    "print(accuracy)"
   ]
  },
  {
   "cell_type": "markdown",
   "metadata": {},
   "source": [
    "#### Apply the process to other currencies"
   ]
  },
  {
   "cell_type": "code",
   "execution_count": 30,
   "metadata": {
    "collapsed": true
   },
   "outputs": [],
   "source": [
    "pred_dict = {}\n",
    "acc_dict = {}\n",
    "highest_date_dict = {}\n",
    "highest_dict = {}\n",
    "perchange_dict = {}"
   ]
  },
  {
   "cell_type": "code",
   "execution_count": 31,
   "metadata": {
    "collapsed": true
   },
   "outputs": [],
   "source": [
    "currency_loop = 'currency_name'"
   ]
  },
  {
   "cell_type": "markdown",
   "metadata": {},
   "source": [
    "#### Assign Accuracy"
   ]
  },
  {
   "cell_type": "code",
   "execution_count": 32,
   "metadata": {
    "collapsed": true
   },
   "outputs": [],
   "source": [
    "pred_dict[currency_loop] = final_forecast\n",
    "acc_dict[currency_loop] = accuracy "
   ]
  },
  {
   "cell_type": "markdown",
   "metadata": {},
   "source": [
    "#### Get the date of the highest point"
   ]
  },
  {
   "cell_type": "code",
   "execution_count": 33,
   "metadata": {
    "collapsed": true
   },
   "outputs": [],
   "source": [
    "highest_date_dict[currency_loop] = np.argmax(pred_dict[currency_loop]['yhat'])"
   ]
  },
  {
   "cell_type": "code",
   "execution_count": 34,
   "metadata": {},
   "outputs": [
    {
     "data": {
      "text/plain": [
       "0.234219"
      ]
     },
     "execution_count": 34,
     "metadata": {},
     "output_type": "execute_result"
    }
   ],
   "source": [
    "float(model_train.head(1)['y'].reset_index(drop = True))"
   ]
  },
  {
   "cell_type": "markdown",
   "metadata": {},
   "source": [
    "#### Save the Highest point"
   ]
  },
  {
   "cell_type": "code",
   "execution_count": 35,
   "metadata": {
    "collapsed": true
   },
   "outputs": [],
   "source": [
    "highest_dict[currency_loop] = np.max(pred_dict[currency_loop]['yhat'])"
   ]
  },
  {
   "cell_type": "markdown",
   "metadata": {},
   "source": [
    "#### Get the Percent change"
   ]
  },
  {
   "cell_type": "code",
   "execution_count": 36,
   "metadata": {
    "collapsed": true
   },
   "outputs": [],
   "source": [
    "perchange_dict[currency_loop] = (highest_dict[currency_loop] - float(model_train.head(1)['y'].reset_index(drop = True)))/float(model_train.head(1)['y'])"
   ]
  },
  {
   "cell_type": "code",
   "execution_count": 37,
   "metadata": {},
   "outputs": [
    {
     "data": {
      "text/plain": [
       "-0.069481247552970249"
      ]
     },
     "execution_count": 37,
     "metadata": {},
     "output_type": "execute_result"
    }
   ],
   "source": [
    "perchange_dict[currency_loop]"
   ]
  },
  {
   "cell_type": "markdown",
   "metadata": {},
   "source": [
    "#### Naive Forecast"
   ]
  },
  {
   "cell_type": "code",
   "execution_count": 38,
   "metadata": {
    "collapsed": true
   },
   "outputs": [],
   "source": [
    "naive_forecast = float(model_train['y'].reset_index(drop=True).head(1))"
   ]
  },
  {
   "cell_type": "code",
   "execution_count": 39,
   "metadata": {},
   "outputs": [
    {
     "data": {
      "text/plain": [
       "0.234219"
      ]
     },
     "execution_count": 39,
     "metadata": {},
     "output_type": "execute_result"
    }
   ],
   "source": [
    "naive_forecast"
   ]
  },
  {
   "cell_type": "markdown",
   "metadata": {},
   "source": [
    "#### Prediction"
   ]
  },
  {
   "cell_type": "code",
   "execution_count": 40,
   "metadata": {},
   "outputs": [
    {
     "name": "stdout",
     "output_type": "stream",
     "text": [
      "           y  forecast\n",
      "0   0.234871  0.234219\n",
      "1   0.229552  0.234219\n",
      "2   0.211591  0.234219\n",
      "3   0.205803  0.234219\n",
      "4   0.225993  0.234219\n",
      "5   0.219164  0.234219\n",
      "6   0.227198  0.234219\n",
      "7   0.228100  0.234219\n",
      "8   0.311601  0.234219\n",
      "9   0.303565  0.234219\n",
      "10  0.274864  0.234219\n",
      "11  0.275125  0.234219\n",
      "12  0.243797  0.234219\n",
      "13  0.244889  0.234219\n",
      "14  0.268088  0.234219\n",
      "15  0.350352  0.234219\n",
      "16  0.426488  0.234219\n",
      "17  0.381291  0.234219\n",
      "18  0.394361  0.234219\n",
      "19  0.494670  0.234219\n",
      "20  0.511789  0.234219\n",
      "21  0.589200  0.234219\n",
      "22  0.575164  0.234219\n",
      "23  0.645124  0.234219\n",
      "24  0.587635  0.234219\n",
      "25  0.768043  0.234219\n",
      "26  0.672352  0.234219\n",
      "27  0.717725  0.234219\n",
      "28  0.708796  0.234219\n",
      "29  0.712597  0.234219\n"
     ]
    }
   ],
   "source": [
    "naive_prediction = pd.DataFrame(model_test['y'].sort_index().reset_index(drop=True))\n",
    "naive_prediction['forecast'] = naive_forecast\n",
    "print(naive_prediction)"
   ]
  },
  {
   "cell_type": "markdown",
   "metadata": {},
   "source": [
    "#### Get accuracy"
   ]
  },
  {
   "cell_type": "code",
   "execution_count": 41,
   "metadata": {},
   "outputs": [
    {
     "data": {
      "text/plain": [
       "0.3283756469460938"
      ]
     },
     "execution_count": 41,
     "metadata": {},
     "output_type": "execute_result"
    }
   ],
   "source": [
    "np.mean(abs(naive_forecast - model_test['y'].reset_index(drop=True))/model_test['y'].reset_index(drop=True))"
   ]
  },
  {
   "cell_type": "markdown",
   "metadata": {},
   "source": [
    "### Put it all in a Function "
   ]
  },
  {
   "cell_type": "code",
   "execution_count": 42,
   "metadata": {
    "collapsed": true
   },
   "outputs": [],
   "source": [
    "def forecast_crypto(file=\"consolidated_coin_data.csv\",threshold=50,plot=False,test=True):\n",
    "\n",
    "    data = pd.read_csv(file)\n",
    "    data.rename(columns={'High':'y','Date':'ds'}, inplace=True)\n",
    "    currency_count = data['Currency'].value_counts()\n",
    "    currency_above_threshold = currency_count.index[data['Currency'].value_counts()>threshold]\n",
    "    currency_above_threshold = currency_above_threshold.tolist()\n",
    "\n",
    "    data_dict_train = {}\n",
    "    if test==True:\n",
    "        data_dict_test = {}\n",
    "\n",
    "    for currency in currency_above_threshold:\n",
    "        _ = data[data['Currency']==currency]\n",
    "        _.index = pd.to_datetime(_['ds'])\n",
    "\n",
    "        if test==True:\n",
    "            data_dict_test[currency] = _[:30]\n",
    "            data_dict_train[currency] = _[30:]\n",
    "        else:\n",
    "            data_dict_train[currency] = _\n",
    "\n",
    "\n",
    "    pred_dict = {}\n",
    "    acc_dict = {}\n",
    "    highest_date_dict = {}\n",
    "    highest_dict = {}\n",
    "    perchange_dict = {}\n",
    "\n",
    "    naive_pred_dict = {}\n",
    "    naive_acc_dict = {}\n",
    "    naive_highest_date_dict = {}\n",
    "    naive_highest_dict = {}\n",
    "    naive_perchange_dict = {}\n",
    "    \n",
    "    #Plots will be saved here\n",
    "    if not os.path.exists('integrichain_plots'):\n",
    "        os.makedirs('integrichain_plots')\n",
    "        \n",
    "    counter = 0\n",
    "    for currency_loop in currency_above_threshold:\n",
    "        counter = counter + 1\n",
    "        print('Working on ' + currency_loop + '(' + str(counter) + ')')\n",
    "        \n",
    "        model_train = data_dict_train[currency_loop].loc[:,['ds','y']]\n",
    "        \n",
    "        if test==True:\n",
    "            model_test = data_dict_test[currency_loop].loc[:,['ds','y']]\n",
    "        \n",
    "        #Prophet\n",
    "        m = Prophet(daily_seasonality=True,yearly_seasonality=False)\n",
    "        m.fit(model_train)\n",
    "        \n",
    "        future = m.make_future_dataframe(periods=30)\n",
    "        future.tail()\n",
    "\n",
    "        forecast = m.predict(future)\n",
    "        if plot==True:\n",
    "            m.plot(forecast)\n",
    "            plt.savefig('integrichain_plots/' +str(currency_loop) + '.png')\n",
    "\n",
    "            m.plot_components(forecast)\n",
    "            plt.savefig('integrichain_plots/' +str(currency_loop) + '_components.png')\n",
    "        \n",
    "        forecast = forecast.set_index('ds')\n",
    "        \n",
    "        if test==True:\n",
    "            final_forecast = forecast[-30:].join(model_test)\n",
    "            final_forecast = final_forecast.loc[:,['y','yhat', 'yhat_lower', 'yhat_upper']]\n",
    "\n",
    "            if plot==True:\n",
    "                final_forecast.plot(title = currency_loop)\n",
    "                plt.savefig('integrichain_plots/' +str(currency_loop) +'_forecast.png')\n",
    "\n",
    "            accuracy = np.mean(np.abs(final_forecast['y'] - final_forecast['yhat'])/final_forecast['y'])\n",
    "            print('Prophet MAPE: ' + str(accuracy))\n",
    "\n",
    "            acc_dict[currency_loop] = accuracy \n",
    "\n",
    "            #Naive\n",
    "            naive_forecast = float(model_train['y'].reset_index(drop=True).head(1))\n",
    "            naive_prediction = pd.DataFrame(model_test['y'].sort_index().reset_index(drop=True))\n",
    "            naive_prediction['yhat'] = naive_forecast#'forecast\n",
    "\n",
    "            naive_pred_dict[currency_loop] = naive_prediction\n",
    "            naive_acc_dict[currency_loop] = np.mean(np.abs(naive_forecast - model_test['y'].reset_index(drop=True))/np.abs(model_test['y'].reset_index(drop=True)))\n",
    "            print('Naive MAPE: ' + str(naive_acc_dict[currency_loop]))\n",
    "            print()\n",
    "            if plot==True:\n",
    "                naive_pred_dict[currency_loop].plot(title = str(currency_loop) + '_naive')\n",
    "                plt.savefig('integrichain_plots/' +str(currency_loop) +'_naive_forecast.png')\n",
    "        else:\n",
    "            final_forecast = forecast.loc[:,['yhat', 'yhat_lower', 'yhat_upper']]\n",
    "            \n",
    "            \n",
    "        final_forecast = final_forecast.reset_index()[-30:]\n",
    "        final_forecast = final_forecast.set_index('ds')\n",
    "        pred_dict[currency_loop] = final_forecast\n",
    "        highest_date_dict[currency_loop] = np.argmax(pred_dict[currency_loop]['yhat'])\n",
    "        highest_dict[currency_loop] = np.max(pred_dict[currency_loop]['yhat'])\n",
    "        perchange_dict[currency_loop] = (highest_dict[currency_loop] - float(model_train.head(1)['y'].reset_index(drop = True)))/float(model_train.head(1)['y'])\n",
    "\n",
    "        plt.close('all')\n",
    "    return pred_dict, acc_dict, highest_date_dict, highest_dict, perchange_dict,naive_pred_dict,naive_acc_dict\n",
    "    "
   ]
  },
  {
   "cell_type": "code",
   "execution_count": 43,
   "metadata": {
    "scrolled": true
   },
   "outputs": [
    {
     "name": "stdout",
     "output_type": "stream",
     "text": [
      "Working on nxt(1)\n",
      "Prophet MAPE: 0.8831193157854519\n",
      "Naive MAPE: 0.6345306227544566\n",
      "\n",
      "Working on bitcoindark(2)\n",
      "Prophet MAPE: 0.2908148896403749\n",
      "Naive MAPE: 0.24348948166683088\n",
      "\n",
      "Working on factom(3)\n",
      "Prophet MAPE: 0.3781275911679046\n",
      "Naive MAPE: 0.24067608461097995\n",
      "\n",
      "Working on reddcoin(4)\n",
      "Prophet MAPE: 0.4982970691827144\n",
      "Naive MAPE: 0.4116469703289604\n",
      "\n",
      "Working on stellar(5)\n",
      "Prophet MAPE: 0.798521202213525\n",
      "Naive MAPE: 0.6043942029676401\n",
      "\n",
      "Working on counterparty(6)\n",
      "Prophet MAPE: 0.5493378477187\n",
      "Naive MAPE: 0.19282035865796152\n",
      "\n",
      "Working on feathercoin(7)\n",
      "Prophet MAPE: 0.6961435803755855\n",
      "Naive MAPE: 0.33044747206794706\n",
      "\n",
      "Working on maidsafecoin(8)\n",
      "Prophet MAPE: 0.2763842163728707\n",
      "Naive MAPE: 0.225190270719649\n",
      "\n",
      "Working on burst(9)\n",
      "Prophet MAPE: 0.6935514461766173\n",
      "Naive MAPE: 0.4982694590940974\n",
      "\n",
      "Working on bytecoin-bcn(10)\n",
      "Prophet MAPE: 0.6019566710437921\n",
      "Naive MAPE: 0.4318970950751595\n",
      "\n",
      "Working on bitshares(11)\n",
      "Prophet MAPE: 0.8128870788627024\n",
      "Naive MAPE: 0.41336947339494673\n",
      "\n",
      "Working on syscoin(12)\n",
      "Prophet MAPE: 0.43734591981677734\n",
      "Naive MAPE: 0.25284801134040025\n",
      "\n",
      "Working on dash(13)\n",
      "Prophet MAPE: 0.5216569674197028\n",
      "Naive MAPE: 0.3230436828232645\n",
      "\n",
      "Working on cloakcoin(14)\n",
      "Prophet MAPE: 0.3006563963014644\n",
      "Naive MAPE: 0.3213482462004122\n",
      "\n",
      "Working on verge(15)\n",
      "Prophet MAPE: 0.49473313369197824\n",
      "Naive MAPE: 0.5200033590604037\n",
      "\n",
      "Working on gulden(16)\n",
      "Prophet MAPE: 0.20979437429507986\n",
      "Naive MAPE: 0.1961902474030398\n",
      "\n",
      "Working on namecoin(17)\n",
      "Prophet MAPE: 0.691714981500537\n",
      "Naive MAPE: 0.38491719786719486\n",
      "\n",
      "Working on viacoin(18)\n",
      "Prophet MAPE: 0.4094039818937139\n",
      "Naive MAPE: 0.36468079498035433\n",
      "\n",
      "Working on faircoin(19)\n",
      "Prophet MAPE: 0.10602355046037866\n",
      "Naive MAPE: 0.14674984854505177\n",
      "\n",
      "Working on einsteinium(20)\n",
      "Prophet MAPE: 0.8904443553327678\n",
      "Naive MAPE: 0.5676312035635483\n",
      "\n",
      "Working on shift(21)\n",
      "Prophet MAPE: 0.5461739223038976\n",
      "Naive MAPE: 0.26162245686694413\n",
      "\n",
      "Working on litecoin(22)\n",
      "Prophet MAPE: 0.5851844374397469\n",
      "Naive MAPE: 0.4642510801674919\n",
      "\n",
      "Working on monero(23)\n",
      "Prophet MAPE: 0.5348717921955727\n",
      "Naive MAPE: 0.4157928857565715\n",
      "\n",
      "Working on nem(24)\n",
      "Prophet MAPE: 0.4898852116053279\n",
      "Naive MAPE: 0.520759660076649\n",
      "\n",
      "Working on emercoin(25)\n",
      "Prophet MAPE: 0.6736473796952431\n",
      "Naive MAPE: 0.28455374011666146\n",
      "\n",
      "Working on gamecredits(26)\n",
      "Prophet MAPE: 0.3867280696919469\n",
      "Naive MAPE: 0.1988145175715797\n",
      "\n",
      "Working on nav-coin(27)\n",
      "Prophet MAPE: 0.4479757372800823\n",
      "Naive MAPE: 0.3903050310639072\n",
      "\n",
      "Working on digitalnote(28)\n",
      "Prophet MAPE: 0.5230253837308448\n",
      "Naive MAPE: 0.4455974898473143\n",
      "\n",
      "Working on vertcoin(29)\n",
      "Prophet MAPE: 0.490818887623878\n",
      "Naive MAPE: 0.31528451872976426\n",
      "\n",
      "Working on dogecoin(30)\n",
      "Prophet MAPE: 0.7634639744402166\n",
      "Naive MAPE: 0.4510192432017413\n",
      "\n",
      "Working on potcoin(31)\n",
      "Prophet MAPE: 0.6293519614274355\n",
      "Naive MAPE: 0.15167462400376377\n",
      "\n",
      "Working on aeon(32)\n",
      "Prophet MAPE: 0.39034165281672434\n",
      "Naive MAPE: 0.18860589276001372\n",
      "\n",
      "Working on paccoin(33)\n",
      "Prophet MAPE: 0.6378402191161704\n",
      "Naive MAPE: 0.3492512589314925\n",
      "\n",
      "Working on nexus(34)\n",
      "Prophet MAPE: 0.3179980763788128\n",
      "Naive MAPE: 0.41149357222519506\n",
      "\n",
      "Working on blocknet(35)\n",
      "Prophet MAPE: 0.15791509915757737\n",
      "Naive MAPE: 0.14694497523457364\n",
      "\n",
      "Working on ripple(36)\n",
      "Prophet MAPE: 0.473178285053851\n",
      "Naive MAPE: 0.39930218964872016\n",
      "\n",
      "Working on bitbay(37)\n",
      "Prophet MAPE: 0.6644794133605436\n",
      "Naive MAPE: 0.33628018833773426\n",
      "\n",
      "Working on digibyte(38)\n",
      "Prophet MAPE: 0.625023814828906\n",
      "Naive MAPE: 0.4536647323135586\n",
      "\n",
      "Working on blackcoin(39)\n",
      "Prophet MAPE: 0.5916283858990548\n",
      "Naive MAPE: 0.20809056339673151\n",
      "\n",
      "Working on bitcoin(40)\n",
      "Prophet MAPE: 0.4724467580868339\n",
      "Naive MAPE: 0.3464475240867497\n",
      "\n",
      "Working on monacoin(41)\n",
      "Prophet MAPE: 0.7022407538152007\n",
      "Naive MAPE: 0.39894397254368225\n",
      "\n",
      "Working on groestlcoin(42)\n",
      "Prophet MAPE: 0.6071399083766525\n",
      "Naive MAPE: 0.4762324126246613\n",
      "\n",
      "Working on ethereum(43)\n",
      "Prophet MAPE: 0.3922787668117986\n",
      "Naive MAPE: 0.21393271257145716\n",
      "\n",
      "Working on tether(44)\n",
      "Prophet MAPE: 0.02488856471135061\n",
      "Naive MAPE: 0.017947562237895173\n",
      "\n",
      "Working on sibcoin(45)\n",
      "Prophet MAPE: 0.4880138113606899\n",
      "Naive MAPE: 0.42727461483444246\n",
      "\n",
      "Working on peercoin(46)\n",
      "Prophet MAPE: 0.7173516916357962\n",
      "Naive MAPE: 0.4860844232192934\n",
      "\n",
      "Working on siacoin(47)\n",
      "Prophet MAPE: 0.8698858227052522\n",
      "Naive MAPE: 0.46228698092593073\n",
      "\n",
      "Working on pura(48)\n",
      "Prophet MAPE: 0.17178375818428232\n",
      "Naive MAPE: 0.1587586485957106\n",
      "\n",
      "Working on hempcoin(49)\n",
      "Prophet MAPE: 0.7836817371240679\n",
      "Naive MAPE: 0.7226409061581384\n",
      "\n",
      "Working on whitecoin(50)\n",
      "Prophet MAPE: 0.6891958162261577\n",
      "Naive MAPE: 0.5789797171421143\n",
      "\n",
      "Working on supernet-unity(51)\n",
      "Prophet MAPE: 0.46703439081121295\n",
      "Naive MAPE: 0.29898265526679435\n",
      "\n",
      "Working on ubiq(52)\n",
      "Prophet MAPE: 0.3615225775453815\n",
      "Naive MAPE: 0.36730506017358827\n",
      "\n",
      "Working on agoras-tokens(53)\n",
      "Prophet MAPE: 0.7307088554276385\n",
      "Naive MAPE: 0.462725802347498\n",
      "\n",
      "Working on salus(54)\n",
      "Prophet MAPE: 0.4790956522728768\n",
      "Naive MAPE: 0.48065497247341377\n",
      "\n",
      "Working on decred(55)\n",
      "Prophet MAPE: 0.5124247347784727\n",
      "Naive MAPE: 0.1951991070066882\n",
      "\n",
      "Working on pivx(56)\n",
      "Prophet MAPE: 0.36110834587032176\n",
      "Naive MAPE: 0.40497533729138996\n",
      "\n",
      "Working on voxels(57)\n",
      "Prophet MAPE: 0.8095592685752552\n",
      "Naive MAPE: 0.5388639866951233\n",
      "\n",
      "Working on lisk(58)\n",
      "Prophet MAPE: 0.30168306053118393\n",
      "Naive MAPE: 0.3005208145985644\n",
      "\n",
      "Working on augur(59)\n",
      "Prophet MAPE: 0.5560848544141523\n",
      "Naive MAPE: 0.314978976580517\n",
      "\n",
      "Working on steem(60)\n",
      "Prophet MAPE: 0.40161467875528\n",
      "Naive MAPE: 0.38213560473402036\n",
      "\n",
      "Working on digixdao(61)\n",
      "Prophet MAPE: 0.46652579626678975\n",
      "Naive MAPE: 0.7530443277324853\n",
      "\n",
      "Working on waves(62)\n",
      "Prophet MAPE: 0.5201687062513771\n",
      "Naive MAPE: 0.436226260633912\n",
      "\n",
      "Working on rise(63)\n",
      "Prophet MAPE: 0.29540398218478886\n",
      "Naive MAPE: 0.40554705168910277\n",
      "\n",
      "Working on ion(64)\n",
      "Prophet MAPE: 0.4128846428135484\n",
      "Naive MAPE: 0.263307824340121\n",
      "\n",
      "Working on library-credit(65)\n",
      "Prophet MAPE: 0.7763471723271764\n",
      "Naive MAPE: 0.3131865350901082\n",
      "\n",
      "Working on ethereum-classic(66)\n",
      "Prophet MAPE: 0.5917724801729192\n",
      "Naive MAPE: 0.21953585459734318\n",
      "\n",
      "Working on stratis(67)\n",
      "Prophet MAPE: 0.6568642382835331\n",
      "Naive MAPE: 0.4445085440081143\n",
      "\n",
      "Working on neo(68)\n",
      "Prophet MAPE: 0.2083409216678673\n",
      "Naive MAPE: 0.2263856484728284\n",
      "\n",
      "Working on ardor(69)\n",
      "Prophet MAPE: 0.6601589549344811\n",
      "Naive MAPE: 0.492047465728275\n",
      "\n",
      "Working on firstblood(70)\n",
      "Prophet MAPE: 0.8649219880373192\n",
      "Naive MAPE: 0.3099668424147568\n",
      "\n",
      "Working on iconomi(71)\n",
      "Prophet MAPE: 0.6895123735329445\n",
      "Naive MAPE: 0.17555856985323415\n",
      "\n",
      "Working on pepe-cash(72)\n",
      "Prophet MAPE: 0.6699597014251846\n",
      "Naive MAPE: 0.5599162859942797\n",
      "\n",
      "Working on singulardtv(73)\n",
      "Prophet MAPE: 0.17697606023436496\n",
      "Naive MAPE: 0.14654386447741563\n",
      "\n",
      "Working on zcoin(74)\n",
      "Prophet MAPE: 0.5951793056775774\n",
      "Naive MAPE: 0.3232489534573935\n",
      "\n",
      "Working on triggers(75)\n",
      "Prophet MAPE: 0.22370929737314113\n",
      "Naive MAPE: 0.4746434400479582\n",
      "\n",
      "Working on zcash(76)\n",
      "Prophet MAPE: 0.3240297069631366\n",
      "Naive MAPE: 0.22529277224479247\n",
      "\n",
      "Working on zclassic(77)\n",
      "Prophet MAPE: 0.660898669620751\n",
      "Naive MAPE: 0.3910269924856248\n",
      "\n",
      "Working on lykke(78)\n",
      "Prophet MAPE: 0.3053344260508121\n",
      "Naive MAPE: 0.21754866524620634\n",
      "\n",
      "Working on golem-network-tokens(79)\n",
      "Prophet MAPE: 0.6400568227013534\n",
      "Naive MAPE: 0.2326273713240608\n",
      "\n",
      "Working on xp(80)\n",
      "Prophet MAPE: 0.6330603004760266\n",
      "Naive MAPE: 0.7293518934960956\n",
      "\n",
      "Working on decent(81)\n",
      "Prophet MAPE: 1.8544183094528\n",
      "Naive MAPE: 0.1869043721130971\n",
      "\n",
      "Working on byteball(82)\n",
      "Prophet MAPE: 0.8218772138548514\n",
      "Naive MAPE: 0.28942048861096503\n",
      "\n",
      "Working on wings(83)\n",
      "Prophet MAPE: 0.35079277871218156\n",
      "Naive MAPE: 0.20512174582186152\n",
      "\n",
      "Working on bitconnect(84)\n",
      "Prophet MAPE: 0.1273933714776273\n",
      "Naive MAPE: 0.19229763606058992\n",
      "\n",
      "Working on komodo(85)\n",
      "Prophet MAPE: 0.37467795349774524\n",
      "Naive MAPE: 0.3003210357668678\n",
      "\n",
      "Working on melon(86)\n",
      "Prophet MAPE: 0.21768377352258136\n",
      "Naive MAPE: 0.16754997757980464\n",
      "\n",
      "Working on ark(87)\n",
      "Prophet MAPE: 0.3346273489355149\n",
      "Naive MAPE: 0.2473858689295762\n",
      "\n",
      "Working on raiblocks(88)\n",
      "Prophet MAPE: 0.7906625694387195\n",
      "Naive MAPE: 0.7507452889887697\n",
      "\n",
      "Working on mercury(89)\n",
      "Prophet MAPE: 0.7358670571844981\n",
      "Naive MAPE: 0.6236931982783498\n",
      "\n",
      "Working on edgeless(90)\n",
      "Prophet MAPE: 0.581091147583556\n",
      "Naive MAPE: 0.3567238772858157\n",
      "\n",
      "Working on asch(91)\n",
      "Prophet MAPE: 0.3137849033249111\n",
      "Naive MAPE: 0.31279175826197597\n",
      "\n",
      "Working on guppy(92)\n",
      "Prophet MAPE: 0.6599192236783452\n",
      "Naive MAPE: 0.490034985367512\n",
      "\n",
      "Working on skycoin(93)\n",
      "Prophet MAPE: 0.6386584617550438\n",
      "Naive MAPE: 0.40234761755799137\n",
      "\n",
      "Working on rlc(94)\n"
     ]
    },
    {
     "name": "stdout",
     "output_type": "stream",
     "text": [
      "Prophet MAPE: 0.27087200683468965\n",
      "Naive MAPE: 0.24002676697949596\n",
      "\n",
      "Working on xtrabytes(95)\n",
      "Prophet MAPE: 0.61804330980986\n",
      "Naive MAPE: 0.6105564112520608\n",
      "\n",
      "Working on gnosis-gno(96)\n",
      "Prophet MAPE: 0.8036094312306722\n",
      "Naive MAPE: 0.22111083000649506\n",
      "\n",
      "Working on humaniq(97)\n",
      "Prophet MAPE: 0.6517833479433178\n",
      "Naive MAPE: 0.3916043623877071\n",
      "\n",
      "Working on aragon(98)\n",
      "Prophet MAPE: 0.4588066136470767\n",
      "Naive MAPE: 0.19322446368579363\n",
      "\n",
      "Working on qtum(99)\n",
      "Prophet MAPE: 0.37763219716172003\n",
      "Naive MAPE: 0.3688783372805345\n",
      "\n",
      "Working on aeternity(100)\n",
      "Prophet MAPE: 0.9685848828871133\n",
      "Naive MAPE: 0.29058154173639933\n",
      "\n",
      "Working on basic-attention-token(101)\n",
      "Prophet MAPE: 0.34441615989194047\n",
      "Naive MAPE: 0.27788656319929467\n",
      "\n",
      "Working on zencash(102)\n",
      "Prophet MAPE: 0.11697683891859914\n",
      "Naive MAPE: 0.14692088497500208\n",
      "\n",
      "Working on metaverse(103)\n",
      "Prophet MAPE: 0.2319395808742656\n",
      "Naive MAPE: 0.22464260755862026\n",
      "\n",
      "Working on veritaseum(104)\n",
      "Prophet MAPE: 0.7326173774877575\n",
      "Naive MAPE: 0.43422388138997625\n",
      "\n",
      "Working on quantum-resistant-ledger(105)\n",
      "Prophet MAPE: 0.4421736734406221\n",
      "Naive MAPE: 0.19107358701612365\n",
      "\n",
      "Working on mobilego(106)\n",
      "Prophet MAPE: 0.48540137224540125\n",
      "Naive MAPE: 0.15235482839857623\n",
      "\n",
      "Working on iota(107)\n",
      "Prophet MAPE: 0.7813560197979269\n",
      "Naive MAPE: 0.6589754076101032\n",
      "\n",
      "Working on sonm(108)\n",
      "Prophet MAPE: 0.4900283333883179\n",
      "Naive MAPE: 0.43535315747556513\n",
      "\n",
      "Working on bancor(109)\n",
      "Prophet MAPE: 0.5699973609218929\n",
      "Naive MAPE: 0.21975655174538752\n",
      "\n",
      "Working on cofound-it(110)\n",
      "Prophet MAPE: 0.5121021891235683\n",
      "Naive MAPE: 0.4788476947208975\n",
      "\n",
      "Working on gxshares(111)\n",
      "Prophet MAPE: 0.5274562269375737\n",
      "Naive MAPE: 0.25700638580392926\n",
      "\n",
      "Working on tenx(112)\n",
      "Prophet MAPE: 1.7941700425974245\n",
      "Naive MAPE: 0.20955230704937353\n",
      "\n",
      "Working on funfair(113)\n",
      "Prophet MAPE: 0.744264427021238\n",
      "Naive MAPE: 0.4181405718980657\n",
      "\n",
      "Working on status(114)\n",
      "Prophet MAPE: 0.741445301336741\n",
      "Naive MAPE: 0.5503573453604693\n",
      "\n",
      "Working on adx-net(115)\n",
      "Prophet MAPE: 0.2022378864386751\n",
      "Naive MAPE: 0.19829708059272524\n",
      "\n",
      "Working on eos(116)\n",
      "Prophet MAPE: 0.5759969194456576\n",
      "Naive MAPE: 0.4846181069497587\n",
      "\n",
      "Working on storj(117)\n",
      "Prophet MAPE: 0.5303474421774897\n",
      "Naive MAPE: 0.2953486650467451\n",
      "\n",
      "Working on monaco(118)\n",
      "Prophet MAPE: 0.5471301120454474\n",
      "Naive MAPE: 0.4782210610781249\n",
      "\n",
      "Working on wagerr(119)\n",
      "Prophet MAPE: 0.7051811537632104\n",
      "Naive MAPE: 0.5789239946851094\n",
      "\n",
      "Working on gas(120)\n",
      "Prophet MAPE: 0.2517201599825755\n",
      "Naive MAPE: 0.2015661150867727\n",
      "\n",
      "Working on metal(121)\n",
      "Prophet MAPE: 0.487263751526826\n",
      "Naive MAPE: 0.21021582058380606\n",
      "\n",
      "Working on santiment(122)\n",
      "Prophet MAPE: 0.8106873354622504\n",
      "Naive MAPE: 0.5856923432365085\n",
      "\n",
      "Working on populous(123)\n",
      "Prophet MAPE: 0.5462667713161024\n",
      "Naive MAPE: 0.5210615380974949\n",
      "\n",
      "Working on omisego(124)\n",
      "Prophet MAPE: 0.45217726495533656\n",
      "Naive MAPE: 0.22574500963961283\n",
      "\n",
      "Working on civic(125)\n",
      "Prophet MAPE: 0.43557559932995055\n",
      "Naive MAPE: 0.26031114191294924\n",
      "\n",
      "Working on ethos(126)\n",
      "Prophet MAPE: 0.22762542968761795\n",
      "Naive MAPE: 0.21319627248072828\n",
      "\n",
      "Working on particl(127)\n",
      "Prophet MAPE: 0.31190514224398264\n",
      "Naive MAPE: 0.18572950414813683\n",
      "\n",
      "Working on smartcash(128)\n",
      "Prophet MAPE: 0.337777634304426\n",
      "Naive MAPE: 0.4939517059765374\n",
      "\n",
      "Working on bitcoin-cash(129)\n",
      "Prophet MAPE: 0.19640774754906457\n",
      "Naive MAPE: 0.23035704583763508\n",
      "\n",
      "Working on pillar(130)\n",
      "Prophet MAPE: 0.29602060401138713\n",
      "Naive MAPE: 0.22685025253965904\n",
      "\n",
      "Working on binance-coin(131)\n",
      "Prophet MAPE: 0.42773471750796666\n",
      "Naive MAPE: 0.42165508959758735\n",
      "\n",
      "Working on district0x(132)\n",
      "Prophet MAPE: 0.6536600895302235\n",
      "Naive MAPE: 0.28518500575388633\n",
      "\n",
      "Working on coindash(133)\n",
      "Prophet MAPE: 0.6987545065344755\n",
      "Naive MAPE: 0.4620983414513923\n",
      "\n",
      "Working on bytom(134)\n",
      "Prophet MAPE: 0.4732135113262713\n",
      "Naive MAPE: 0.3712432354624726\n",
      "\n",
      "Working on dentacoin(135)\n",
      "Prophet MAPE: 0.42225340943257283\n",
      "Naive MAPE: 0.3596105211485225\n",
      "\n",
      "Working on centra(136)\n",
      "Prophet MAPE: 0.7083649663456352\n",
      "Naive MAPE: 0.39298386455971984\n",
      "\n",
      "Working on dent(137)\n",
      "Prophet MAPE: 0.797564819293444\n",
      "Naive MAPE: 0.5786534881787835\n",
      "\n",
      "Working on 0x(138)\n",
      "Prophet MAPE: 0.3813395127973292\n",
      "Naive MAPE: 0.3283756469460938\n",
      "\n",
      "Working on hshare(139)\n",
      "Prophet MAPE: 0.22149010500640928\n",
      "Naive MAPE: 0.27377776737237236\n",
      "\n",
      "Working on vechain(140)\n",
      "Prophet MAPE: 0.5640312176592391\n",
      "Naive MAPE: 0.5997827091115748\n",
      "\n",
      "Working on yoyow(141)\n",
      "Prophet MAPE: 0.7790411783771904\n",
      "Naive MAPE: 0.722601779821903\n",
      "\n",
      "Working on tierion(142)\n",
      "Prophet MAPE: 0.28220418809141457\n",
      "Naive MAPE: 0.21596734786876765\n",
      "\n",
      "Working on walton(143)\n",
      "Prophet MAPE: 0.25884549759568\n",
      "Naive MAPE: 0.2439518879000198\n",
      "\n",
      "Working on loopring(144)\n",
      "Prophet MAPE: 0.1934968549560922\n",
      "Naive MAPE: 0.24770275719959212\n",
      "\n",
      "Working on poet(145)\n",
      "Prophet MAPE: 0.9450181758157769\n",
      "Naive MAPE: 0.3743729882047186\n",
      "\n",
      "Working on monetha(146)\n",
      "Prophet MAPE: 0.5520662427536227\n",
      "Naive MAPE: 0.388828375181493\n",
      "\n",
      "Working on neblio(147)\n",
      "Prophet MAPE: 0.37736706535444686\n",
      "Naive MAPE: 0.2707927692210222\n",
      "\n",
      "Working on tron(148)\n",
      "Prophet MAPE: 0.79701071279395\n",
      "Naive MAPE: 0.6114669739605358\n",
      "\n",
      "Working on decentraland(149)\n",
      "Prophet MAPE: 0.7606380707197623\n",
      "Naive MAPE: 0.6215023298607595\n",
      "\n",
      "Working on xplay(150)\n",
      "Prophet MAPE: 0.268218650833083\n",
      "Naive MAPE: 0.174934518183145\n",
      "\n",
      "Working on chainlink(151)\n",
      "Prophet MAPE: 0.5766339772385047\n",
      "Naive MAPE: 0.4174217378499652\n",
      "\n",
      "Working on kyber-network(152)\n",
      "Prophet MAPE: 0.2641650575016405\n",
      "Naive MAPE: 0.2564940581015932\n",
      "\n",
      "Working on substratum(153)\n",
      "Prophet MAPE: 0.5293301388387011\n",
      "Naive MAPE: 0.2824320712400232\n",
      "\n",
      "Working on achain(154)\n",
      "Prophet MAPE: 0.6312886271113268\n",
      "Naive MAPE: 0.23391152565562834\n",
      "\n",
      "Working on kin(155)\n",
      "Prophet MAPE: 0.5877712722850117\n",
      "Naive MAPE: 0.24140352649137334\n",
      "\n",
      "Working on salt(156)\n",
      "Prophet MAPE: 0.5329928955347556\n",
      "Naive MAPE: 0.42734126111673976\n",
      "\n",
      "Working on cobinhood(157)\n",
      "Prophet MAPE: 0.5857478031815176\n",
      "Naive MAPE: 0.4391155124723227\n",
      "\n",
      "Working on cardano(158)\n",
      "Prophet MAPE: 0.8315093211261462\n",
      "Naive MAPE: 0.7073143002820831\n",
      "\n",
      "Working on attention-token-of-media(159)\n",
      "Prophet MAPE: 0.31343494445809755\n",
      "Naive MAPE: 0.1136837696919589\n",
      "\n",
      "Working on rchain(160)\n",
      "Prophet MAPE: 0.838560929072784\n",
      "Naive MAPE: 0.5068539547273677\n",
      "\n",
      "Working on viberate(161)\n",
      "Prophet MAPE: 0.3338955505313843\n",
      "Naive MAPE: 0.28268081478158213\n",
      "\n",
      "Working on paypie(162)\n",
      "Prophet MAPE: 0.36742887328637314\n",
      "Naive MAPE: 0.34811135167182033\n",
      "\n",
      "Working on bridgecoin(163)\n",
      "Prophet MAPE: 0.7518554968591679\n",
      "Naive MAPE: 0.6419558071054695\n",
      "\n",
      "Working on cryptonex(164)\n",
      "Prophet MAPE: 0.7724340050459803\n",
      "Naive MAPE: 0.476478589612653\n",
      "\n",
      "Working on enigma-project(165)\n",
      "Prophet MAPE: 0.4332577493713138\n",
      "Naive MAPE: 0.37668717032670695\n",
      "\n",
      "Working on cindicator(166)\n",
      "Prophet MAPE: 0.475386562880576\n",
      "Naive MAPE: 0.27629096460237074\n",
      "\n",
      "Working on airswap(167)\n",
      "Prophet MAPE: 0.4065398741254308\n",
      "Naive MAPE: 0.25688254155773416\n",
      "\n",
      "Working on eidoo(168)\n",
      "Prophet MAPE: 0.2861602866417405\n",
      "Naive MAPE: 0.17228014824491947\n",
      "\n",
      "Working on aion(169)\n",
      "Prophet MAPE: 0.5166687431112913\n",
      "Naive MAPE: 0.5150379859539089\n",
      "\n",
      "Working on request-network(170)\n",
      "Prophet MAPE: 0.5596272150293962\n",
      "Naive MAPE: 0.5309461763590947\n",
      "\n",
      "Working on amber(171)\n",
      "Prophet MAPE: 0.3347765346515351\n",
      "Naive MAPE: 0.2327245839656506\n",
      "\n",
      "Working on modum(172)\n",
      "Prophet MAPE: 0.17397362067242592\n",
      "Naive MAPE: 0.16198737117801373\n",
      "\n",
      "Working on bitcoin-gold(173)\n",
      "Prophet MAPE: 0.18278727779144222\n",
      "Naive MAPE: 0.22485004246663481\n",
      "\n",
      "Working on kucoin-shares(174)\n",
      "Prophet MAPE: 0.3854035164708343\n",
      "Naive MAPE: 0.2329446897652925\n",
      "\n",
      "Working on open-trading-network(175)\n",
      "Prophet MAPE: 3.443603829044448\n",
      "Naive MAPE: 1.1097568825067143\n",
      "\n",
      "Working on ripio-credit-network(176)\n"
     ]
    },
    {
     "name": "stderr",
     "output_type": "stream",
     "text": [
      "INFO:fbprophet.forecaster:n_changepoints greater than number of observations.Using 24.0.\n"
     ]
    },
    {
     "name": "stdout",
     "output_type": "stream",
     "text": [
      "Prophet MAPE: 0.2233909140342882\n",
      "Naive MAPE: 0.2371238869844558\n",
      "\n",
      "Working on icon(177)\n"
     ]
    },
    {
     "name": "stderr",
     "output_type": "stream",
     "text": [
      "INFO:fbprophet.forecaster:n_changepoints greater than number of observations.Using 23.0.\n"
     ]
    },
    {
     "name": "stdout",
     "output_type": "stream",
     "text": [
      "Prophet MAPE: 0.3737326791054354\n",
      "Naive MAPE: 0.2897097665649142\n",
      "\n",
      "Working on red-pulse(178)\n"
     ]
    },
    {
     "name": "stderr",
     "output_type": "stream",
     "text": [
      "INFO:fbprophet.forecaster:n_changepoints greater than number of observations.Using 22.0.\n"
     ]
    },
    {
     "name": "stdout",
     "output_type": "stream",
     "text": [
      "Prophet MAPE: 0.36493786771795056\n",
      "Naive MAPE: 0.38705260965501675\n",
      "\n",
      "Working on etherparty(179)\n"
     ]
    },
    {
     "name": "stderr",
     "output_type": "stream",
     "text": [
      "INFO:fbprophet.forecaster:n_changepoints greater than number of observations.Using 20.0.\n"
     ]
    },
    {
     "name": "stdout",
     "output_type": "stream",
     "text": [
      "Prophet MAPE: 0.26128698115261895\n",
      "Naive MAPE: 0.3059965597089649\n",
      "\n",
      "Working on power-ledger(180)\n"
     ]
    },
    {
     "name": "stderr",
     "output_type": "stream",
     "text": [
      "INFO:fbprophet.forecaster:n_changepoints greater than number of observations.Using 20.0.\n"
     ]
    },
    {
     "name": "stdout",
     "output_type": "stream",
     "text": [
      "Prophet MAPE: 0.6073251378535836\n",
      "Naive MAPE: 0.1930388235170328\n",
      "\n",
      "Working on revain(181)\n"
     ]
    },
    {
     "name": "stderr",
     "output_type": "stream",
     "text": [
      "INFO:fbprophet.forecaster:n_changepoints greater than number of observations.Using 20.0.\n"
     ]
    },
    {
     "name": "stdout",
     "output_type": "stream",
     "text": [
      "Prophet MAPE: 0.3729708949311703\n",
      "Naive MAPE: 0.4808379937962437\n",
      "\n",
      "Working on enjin-coin(182)\n"
     ]
    },
    {
     "name": "stderr",
     "output_type": "stream",
     "text": [
      "INFO:fbprophet.forecaster:n_changepoints greater than number of observations.Using 19.0.\n"
     ]
    },
    {
     "name": "stdout",
     "output_type": "stream",
     "text": [
      "Prophet MAPE: 0.4622105204542954\n",
      "Naive MAPE: 0.4805048202569766\n",
      "\n",
      "Working on electroneum(183)\n"
     ]
    },
    {
     "name": "stderr",
     "output_type": "stream",
     "text": [
      "INFO:fbprophet.forecaster:n_changepoints greater than number of observations.Using 19.0.\n"
     ]
    },
    {
     "name": "stdout",
     "output_type": "stream",
     "text": [
      "Prophet MAPE: 1.1981442844854704\n",
      "Naive MAPE: 0.5787004053576961\n",
      "\n",
      "Working on streamr-datacoin(184)\n",
      "Prophet MAPE: 0.514217598674663\n",
      "Naive MAPE: 0.4032489864432295\n",
      "\n",
      "500.8677613735199\n"
     ]
    }
   ],
   "source": [
    "start = time.time()\n",
    "pred_dict, acc_dict, highest_date_dict, highest_dict, perchange_dict,naive_pred_dict,naive_acc_dict = forecast_crypto(plot = True,test=True)\n",
    "end = time.time()\n",
    "print(end - start)"
   ]
  },
  {
   "cell_type": "markdown",
   "metadata": {},
   "source": [
    "#### Naive Average Accuracy"
   ]
  },
  {
   "cell_type": "code",
   "execution_count": 44,
   "metadata": {},
   "outputs": [
    {
     "data": {
      "text/plain": [
       "0.36264470511878455"
      ]
     },
     "execution_count": 44,
     "metadata": {},
     "output_type": "execute_result"
    }
   ],
   "source": [
    "np.mean(list(naive_acc_dict.values()))"
   ]
  },
  {
   "cell_type": "markdown",
   "metadata": {},
   "source": [
    "#### Prophet Average Accuracy"
   ]
  },
  {
   "cell_type": "code",
   "execution_count": 45,
   "metadata": {},
   "outputs": [
    {
     "data": {
      "text/plain": [
       "0.53900821663839893"
      ]
     },
     "execution_count": 45,
     "metadata": {},
     "output_type": "execute_result"
    }
   ],
   "source": [
    "np.mean(list(acc_dict.values()))"
   ]
  },
  {
   "cell_type": "markdown",
   "metadata": {},
   "source": [
    "#### Compare Progression of Accuracy"
   ]
  },
  {
   "cell_type": "code",
   "execution_count": 46,
   "metadata": {
    "collapsed": true
   },
   "outputs": [],
   "source": [
    "def prog_acc(dictionary,index_start,index_end):\n",
    "    acc_list = []\n",
    "    for key in dictionary:\n",
    "        acc_list.append(np.mean(abs(dictionary[key].reset_index().loc[index_start:index_end,['yhat']].values-dictionary[key].reset_index().loc[index_start:index_end,['y']].values)/dictionary[key].reset_index().loc[index_start:index_end,['y']].values))\n",
    "    return np.mean(acc_list)"
   ]
  },
  {
   "cell_type": "markdown",
   "metadata": {},
   "source": [
    "#### MAPE for just one day Forecast"
   ]
  },
  {
   "cell_type": "code",
   "execution_count": 47,
   "metadata": {},
   "outputs": [
    {
     "name": "stdout",
     "output_type": "stream",
     "text": [
      "Prophet: 0.327734677161\n",
      "Naive: 0.112305944162\n"
     ]
    }
   ],
   "source": [
    "print('Prophet: ' + str(prog_acc(pred_dict,0,1)))\n",
    "print('Naive: ' + str(prog_acc(naive_pred_dict,0,1)))"
   ]
  },
  {
   "cell_type": "markdown",
   "metadata": {},
   "source": [
    "#### MAPE for just one week Forecast"
   ]
  },
  {
   "cell_type": "code",
   "execution_count": 48,
   "metadata": {
    "scrolled": true
   },
   "outputs": [
    {
     "name": "stdout",
     "output_type": "stream",
     "text": [
      "Prophet: 0.354254512955\n",
      "Naive: 0.163068472521\n"
     ]
    }
   ],
   "source": [
    "print('Prophet: ' + str(prog_acc(pred_dict,0,7)))\n",
    "print('Naive: ' + str(prog_acc(naive_pred_dict,0,7)))"
   ]
  },
  {
   "cell_type": "markdown",
   "metadata": {},
   "source": [
    "#### MAPE for second week Forecast"
   ]
  },
  {
   "cell_type": "code",
   "execution_count": 49,
   "metadata": {},
   "outputs": [
    {
     "name": "stdout",
     "output_type": "stream",
     "text": [
      "Prophet: 0.467719234369\n",
      "Naive: 0.279483973026\n"
     ]
    }
   ],
   "source": [
    "print('Prophet: ' + str(prog_acc(pred_dict,7,14)))\n",
    "print('Naive: ' + str(prog_acc(naive_pred_dict,7,14)))"
   ]
  },
  {
   "cell_type": "markdown",
   "metadata": {},
   "source": [
    "#### MAPE for third week onwards Forecast"
   ]
  },
  {
   "cell_type": "code",
   "execution_count": 50,
   "metadata": {},
   "outputs": [
    {
     "name": "stdout",
     "output_type": "stream",
     "text": [
      "Prophet: 0.717380401182\n",
      "Naive: 0.56561602306\n"
     ]
    }
   ],
   "source": [
    "print('Prophet: ' + str(prog_acc(pred_dict,21,30)))\n",
    "print('Naive: ' + str(prog_acc(naive_pred_dict,21,30)))"
   ]
  },
  {
   "cell_type": "markdown",
   "metadata": {},
   "source": [
    "#### Performance decreases the longer the forecast"
   ]
  },
  {
   "cell_type": "markdown",
   "metadata": {},
   "source": [
    "#### Apply Prophet to the whole dataset to forecast next month"
   ]
  },
  {
   "cell_type": "code",
   "execution_count": 51,
   "metadata": {
    "scrolled": true
   },
   "outputs": [
    {
     "name": "stdout",
     "output_type": "stream",
     "text": [
      "Working on nxt(1)\n",
      "Working on bitcoindark(2)\n",
      "Working on factom(3)\n",
      "Working on reddcoin(4)\n",
      "Working on stellar(5)\n",
      "Working on counterparty(6)\n",
      "Working on feathercoin(7)\n",
      "Working on maidsafecoin(8)\n",
      "Working on burst(9)\n",
      "Working on bytecoin-bcn(10)\n",
      "Working on bitshares(11)\n",
      "Working on syscoin(12)\n",
      "Working on dash(13)\n",
      "Working on cloakcoin(14)\n",
      "Working on verge(15)\n",
      "Working on gulden(16)\n",
      "Working on namecoin(17)\n",
      "Working on viacoin(18)\n",
      "Working on faircoin(19)\n",
      "Working on einsteinium(20)\n",
      "Working on shift(21)\n",
      "Working on litecoin(22)\n",
      "Working on monero(23)\n",
      "Working on nem(24)\n",
      "Working on emercoin(25)\n",
      "Working on gamecredits(26)\n",
      "Working on nav-coin(27)\n",
      "Working on digitalnote(28)\n",
      "Working on vertcoin(29)\n",
      "Working on dogecoin(30)\n",
      "Working on potcoin(31)\n",
      "Working on aeon(32)\n",
      "Working on paccoin(33)\n",
      "Working on nexus(34)\n",
      "Working on blocknet(35)\n",
      "Working on ripple(36)\n",
      "Working on bitbay(37)\n",
      "Working on digibyte(38)\n",
      "Working on blackcoin(39)\n",
      "Working on bitcoin(40)\n",
      "Working on monacoin(41)\n",
      "Working on groestlcoin(42)\n",
      "Working on ethereum(43)\n",
      "Working on tether(44)\n",
      "Working on sibcoin(45)\n",
      "Working on peercoin(46)\n",
      "Working on siacoin(47)\n",
      "Working on pura(48)\n",
      "Working on hempcoin(49)\n",
      "Working on whitecoin(50)\n",
      "Working on supernet-unity(51)\n",
      "Working on ubiq(52)\n",
      "Working on agoras-tokens(53)\n",
      "Working on salus(54)\n",
      "Working on decred(55)\n",
      "Working on pivx(56)\n",
      "Working on voxels(57)\n",
      "Working on lisk(58)\n",
      "Working on augur(59)\n",
      "Working on steem(60)\n",
      "Working on digixdao(61)\n",
      "Working on waves(62)\n",
      "Working on rise(63)\n",
      "Working on ion(64)\n",
      "Working on library-credit(65)\n",
      "Working on ethereum-classic(66)\n",
      "Working on stratis(67)\n",
      "Working on neo(68)\n",
      "Working on ardor(69)\n",
      "Working on firstblood(70)\n",
      "Working on iconomi(71)\n",
      "Working on pepe-cash(72)\n",
      "Working on singulardtv(73)\n",
      "Working on zcoin(74)\n",
      "Working on triggers(75)\n",
      "Working on zcash(76)\n",
      "Working on zclassic(77)\n",
      "Working on lykke(78)\n",
      "Working on golem-network-tokens(79)\n",
      "Working on xp(80)\n",
      "Working on decent(81)\n",
      "Working on byteball(82)\n",
      "Working on wings(83)\n",
      "Working on bitconnect(84)\n",
      "Working on komodo(85)\n",
      "Working on melon(86)\n",
      "Working on ark(87)\n",
      "Working on raiblocks(88)\n",
      "Working on mercury(89)\n",
      "Working on edgeless(90)\n",
      "Working on asch(91)\n",
      "Working on guppy(92)\n",
      "Working on skycoin(93)\n",
      "Working on rlc(94)\n",
      "Working on xtrabytes(95)\n",
      "Working on gnosis-gno(96)\n",
      "Working on humaniq(97)\n",
      "Working on aragon(98)\n",
      "Working on qtum(99)\n",
      "Working on aeternity(100)\n",
      "Working on basic-attention-token(101)\n",
      "Working on zencash(102)\n",
      "Working on metaverse(103)\n",
      "Working on veritaseum(104)\n",
      "Working on quantum-resistant-ledger(105)\n",
      "Working on mobilego(106)\n",
      "Working on iota(107)\n",
      "Working on sonm(108)\n",
      "Working on bancor(109)\n",
      "Working on cofound-it(110)\n",
      "Working on gxshares(111)\n",
      "Working on tenx(112)\n",
      "Working on funfair(113)\n",
      "Working on status(114)\n",
      "Working on adx-net(115)\n",
      "Working on eos(116)\n",
      "Working on storj(117)\n",
      "Working on monaco(118)\n",
      "Working on wagerr(119)\n",
      "Working on gas(120)\n",
      "Working on metal(121)\n",
      "Working on santiment(122)\n",
      "Working on populous(123)\n",
      "Working on omisego(124)\n",
      "Working on civic(125)\n",
      "Working on ethos(126)\n",
      "Working on particl(127)\n",
      "Working on smartcash(128)\n",
      "Working on bitcoin-cash(129)\n",
      "Working on pillar(130)\n",
      "Working on binance-coin(131)\n",
      "Working on district0x(132)\n",
      "Working on coindash(133)\n",
      "Working on bytom(134)\n",
      "Working on dentacoin(135)\n",
      "Working on centra(136)\n",
      "Working on dent(137)\n",
      "Working on 0x(138)\n",
      "Working on hshare(139)\n",
      "Working on vechain(140)\n",
      "Working on yoyow(141)\n",
      "Working on tierion(142)\n",
      "Working on walton(143)\n",
      "Working on loopring(144)\n",
      "Working on poet(145)\n",
      "Working on monetha(146)\n",
      "Working on neblio(147)\n",
      "Working on tron(148)\n",
      "Working on decentraland(149)\n",
      "Working on xplay(150)\n",
      "Working on chainlink(151)\n",
      "Working on kyber-network(152)\n",
      "Working on substratum(153)\n",
      "Working on achain(154)\n",
      "Working on kin(155)\n",
      "Working on salt(156)\n",
      "Working on cobinhood(157)\n",
      "Working on cardano(158)\n",
      "Working on attention-token-of-media(159)\n",
      "Working on rchain(160)\n",
      "Working on viberate(161)\n",
      "Working on paypie(162)\n",
      "Working on bridgecoin(163)\n",
      "Working on cryptonex(164)\n",
      "Working on enigma-project(165)\n",
      "Working on cindicator(166)\n",
      "Working on airswap(167)\n",
      "Working on eidoo(168)\n",
      "Working on aion(169)\n",
      "Working on request-network(170)\n",
      "Working on amber(171)\n",
      "Working on modum(172)\n",
      "Working on bitcoin-gold(173)\n",
      "Working on kucoin-shares(174)\n",
      "Working on open-trading-network(175)\n",
      "Working on ripio-credit-network(176)\n",
      "Working on icon(177)\n",
      "Working on red-pulse(178)\n",
      "Working on etherparty(179)\n",
      "Working on power-ledger(180)\n",
      "Working on revain(181)\n",
      "Working on enjin-coin(182)\n",
      "Working on electroneum(183)\n",
      "Working on streamr-datacoin(184)\n",
      "354.50780630111694\n"
     ]
    }
   ],
   "source": [
    "start = time.time()\n",
    "pred_dict, acc_dict, highest_date_dict, highest_dict, perchange_dict,_,_ = forecast_crypto(plot = False,test=False)\n",
    "end = time.time()\n",
    "print(end - start)"
   ]
  },
  {
   "cell_type": "markdown",
   "metadata": {},
   "source": [
    "#### Forecast of Top Performers and the dates they peak"
   ]
  },
  {
   "cell_type": "code",
   "execution_count": 52,
   "metadata": {},
   "outputs": [
    {
     "name": "stdout",
     "output_type": "stream",
     "text": [
      "decentraland: 1.26655559037\n",
      "Peaks at: 2018-01-25 00:00:00\n",
      "\n",
      "cobinhood: 1.11712959431\n",
      "Peaks at: 2018-01-22 00:00:00\n",
      "\n",
      "request-network: 1.0987628498\n",
      "Peaks at: 2018-01-26 00:00:00\n",
      "\n"
     ]
    }
   ],
   "source": [
    "from collections import Counter \n",
    "for k, v in Counter(perchange_dict).most_common(3):\n",
    "    print(str(k) + ': ' + str(v))\n",
    "    print('Peaks at: ' + str(highest_date_dict[k]))\n",
    "    print()"
   ]
  }
 ],
 "metadata": {
  "kernelspec": {
   "display_name": "Python 3",
   "language": "python",
   "name": "python3"
  },
  "language_info": {
   "codemirror_mode": {
    "name": "ipython",
    "version": 3
   },
   "file_extension": ".py",
   "mimetype": "text/x-python",
   "name": "python",
   "nbconvert_exporter": "python",
   "pygments_lexer": "ipython3",
   "version": "3.5.3"
  }
 },
 "nbformat": 4,
 "nbformat_minor": 1
}
